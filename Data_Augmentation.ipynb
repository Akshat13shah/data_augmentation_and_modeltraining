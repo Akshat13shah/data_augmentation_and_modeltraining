{
  "nbformat": 4,
  "nbformat_minor": 0,
  "metadata": {
    "colab": {
      "provenance": [],
      "authorship_tag": "ABX9TyN453cnxqqJztNQBwHv79Is",
      "include_colab_link": true
    },
    "kernelspec": {
      "name": "python3",
      "display_name": "Python 3"
    },
    "language_info": {
      "name": "python"
    }
  },
  "cells": [
    {
      "cell_type": "markdown",
      "metadata": {
        "id": "view-in-github",
        "colab_type": "text"
      },
      "source": [
        "<a href=\"https://colab.research.google.com/github/Akshat13shah/data_augmentation_and_modeltraining/blob/main/Data_Augmentation.ipynb\" target=\"_parent\"><img src=\"https://colab.research.google.com/assets/colab-badge.svg\" alt=\"Open In Colab\"/></a>"
      ]
    },
    {
      "cell_type": "markdown",
      "source": [
        "## CS203 Lab Assignment 5\n",
        "\n",
        "### Team Number: 18\n",
        "* Name: Paras Prashant Shirvale\n",
        "* Roll No: 23110232\n",
        "---\n",
        "* Name: Akshat Shah\n",
        "* Roll No: 23110293\n",
        "---"
      ],
      "metadata": {
        "id": "GjjG3Rd9EbNO"
      }
    },
    {
      "cell_type": "markdown",
      "source": [
        "### Task 1: Data Augmentation"
      ],
      "metadata": {
        "id": "nHXSq_L3Ejyl"
      }
    },
    {
      "cell_type": "markdown",
      "source": [
        "* Downloaded the Cat & Dog Dataset (https://www.kaggle.com/datasets/samuelcortinhas/cats-and-dogs-image-classification?select=test) (Only download the test dataset; do not take the training dataset)\n",
        "\n",
        "* Create a train and test set (train-test ratio should be 80:20%).\n"
      ],
      "metadata": {
        "id": "LeAdSpZnEmAD"
      }
    },
    {
      "cell_type": "code",
      "source": [],
      "metadata": {
        "id": "d7lH2rfZD1Eq"
      },
      "execution_count": null,
      "outputs": []
    }
  ]
}