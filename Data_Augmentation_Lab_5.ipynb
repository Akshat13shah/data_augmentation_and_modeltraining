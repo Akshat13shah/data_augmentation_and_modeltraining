{
  "nbformat": 4,
  "nbformat_minor": 0,
  "metadata": {
    "colab": {
      "provenance": [],
      "include_colab_link": true
    },
    "kernelspec": {
      "name": "python3",
      "display_name": "Python 3"
    },
    "language_info": {
      "name": "python"
    }
  },
  "cells": [
    {
      "cell_type": "markdown",
      "metadata": {
        "id": "view-in-github",
        "colab_type": "text"
      },
      "source": [
        "<a href=\"https://colab.research.google.com/github/Akshat13shah/data_augmentation_and_modeltraining/blob/main/Data_Augmentation_Lab_5.ipynb\" target=\"_parent\"><img src=\"https://colab.research.google.com/assets/colab-badge.svg\" alt=\"Open In Colab\"/></a>"
      ]
    },
    {
      "cell_type": "markdown",
      "source": [
        "## CS203 Lab Assignment 5\n",
        "\n",
        "### Team Number: 18\n",
        "* Name: Paras Prashant Shirvale\n",
        "* Roll No: 23110232\n",
        "---\n",
        "* Name: Akshat Shah\n",
        "* Roll No: 23110293\n",
        "---"
      ],
      "metadata": {
        "id": "GjjG3Rd9EbNO"
      }
    },
    {
      "cell_type": "markdown",
      "source": [
        "### Task 1: Data Augmentation"
      ],
      "metadata": {
        "id": "nHXSq_L3Ejyl"
      }
    },
    {
      "cell_type": "markdown",
      "source": [
        "* Downloaded the Cat & Dog Dataset (https://www.kaggle.com/datasets/samuelcortinhas/cats-and-dogs-image-classification?select=test) (Only download the test dataset; do not take the training dataset)\n",
        "\n",
        "* Create a train and test set (train-test ratio should be 80:20%).\n"
      ],
      "metadata": {
        "id": "LeAdSpZnEmAD"
      }
    },
    {
      "cell_type": "code",
      "source": [
        "!pip install --upgrade augly -q\n",
        "!pip install nlpaug -q"
      ],
      "metadata": {
        "id": "Iox1p-8Qw8H1"
      },
      "execution_count": 31,
      "outputs": []
    },
    {
      "cell_type": "markdown",
      "source": [
        "Import Required Libraries\n",
        "* We imported essential libraries such as `os`, `pandas`, `numpy`, `matplotlib`, and `PIL` for image processing.\n",
        "\n",
        "* `train_test_split` from `sklearn.model_selection` is used to split the dataset into training and testing sets."
      ],
      "metadata": {
        "id": "KCatWZqv5XT1"
      }
    },
    {
      "cell_type": "code",
      "source": [
        "import os\n",
        "import pandas as pd\n",
        "import numpy as np\n",
        "import matplotlib.pyplot as plt\n",
        "from PIL import Image\n",
        "from sklearn.model_selection import train_test_split"
      ],
      "metadata": {
        "id": "kcAEw_44DjR0"
      },
      "execution_count": 32,
      "outputs": []
    },
    {
      "cell_type": "markdown",
      "source": [
        "Mount Google Drive\n",
        "* We mounted Google Drive to access the dataset stored in the drive."
      ],
      "metadata": {
        "id": "i8TxtGEH5w4K"
      }
    },
    {
      "cell_type": "code",
      "source": [
        "from google.colab import drive\n",
        "drive.mount('/content/drive')"
      ],
      "metadata": {
        "colab": {
          "base_uri": "https://localhost:8080/"
        },
        "id": "06outoCvNDpV",
        "outputId": "d709a66b-7745-48fb-e60e-ae6cded8bd3c"
      },
      "execution_count": 33,
      "outputs": [
        {
          "output_type": "stream",
          "name": "stdout",
          "text": [
            "Drive already mounted at /content/drive; to attempt to forcibly remount, call drive.mount(\"/content/drive\", force_remount=True).\n"
          ]
        }
      ]
    },
    {
      "cell_type": "markdown",
      "source": [
        "Load and Prepare the Dataset\n",
        "* We specified the folder paths where the cat and dog images are stored.\n",
        "\n",
        "* We listed all `.jpg` files in the respective folders and created dataframes for cats and dogs.\n",
        "\n",
        "* The dataframes contain the filenames, file paths, and the actual image pixels."
      ],
      "metadata": {
        "id": "P5KWVqvq51Dq"
      }
    },
    {
      "cell_type": "code",
      "source": [
        "# Specify the folder where images are stored; update this path as needed\n",
        "cats = \"/content/drive/MyDrive/test/cats\"\n",
        "dogs = \"/content/drive/MyDrive/test/dogs\"\n",
        "\n",
        "# List image files with .jpg extension\n",
        "cats_files = [f for f in os.listdir(cats) if f.lower().endswith('.jpg')]\n",
        "dogs_files = [f for f in os.listdir(dogs) if f.lower().endswith('.jpg')]\n",
        "\n",
        "# Create a dataframe from the list of image filenames\n",
        "df_cats = pd.DataFrame(cats_files, columns=['cats_filename'])\n",
        "df_cats['cats_filepath'] = df_cats['cats_filename'].apply(lambda x: os.path.join(cats, x))\n",
        "df_cats['cats_filename'] = df_cats['cats_filename'].str.slice(0, -4)\n",
        "df_cats['cats_pixels'] = df_cats['cats_filepath'].apply(lambda x: Image.open(x))\n",
        "\n",
        "df_dogs = pd.DataFrame(dogs_files, columns=['dogs_filename'])\n",
        "df_dogs['dogs_filepath'] = df_dogs['dogs_filename'].apply(lambda x: os.path.join(dogs, x))\n",
        "df_dogs['dogs_filename'] = df_dogs['dogs_filename'].str.slice(0, -4)\n",
        "df_dogs['dogs_pixels'] = df_dogs['dogs_filepath'].apply(lambda x: Image.open(x))\n",
        "\n",
        "# Sorted the Dataframe by filename\n",
        "df_cats = df_cats.sort_values(by='cats_filename', ascending=True)\n",
        "df_dogs = df_dogs.sort_values(by='dogs_filename', ascending=True)"
      ],
      "metadata": {
        "id": "d7lH2rfZD1Eq"
      },
      "execution_count": 34,
      "outputs": []
    },
    {
      "cell_type": "markdown",
      "source": [
        "Split the Dataset into Train and Test Sets\n",
        "* We split the dataset into training and testing sets with an 80:20 ratio.\n",
        "\n",
        "* The first 80% of the images are used for training, and the remaining 20% are used for testing."
      ],
      "metadata": {
        "id": "fzWAKT-t6Ox3"
      }
    },
    {
      "cell_type": "code",
      "source": [
        "# Calculate the 80% and 20% splits\n",
        "train_size_cats = int(len(df_cats) * 0.8)\n",
        "test_size_cats = len(df_cats) - train_size_cats\n",
        "\n",
        "train_size_dogs = int(len(df_dogs) * 0.8)\n",
        "test_size_dogs = len(df_dogs) - train_size_dogs\n",
        "\n",
        "# Select the first 80% for the training set\n",
        "cats_train_df = df_cats[:train_size_cats]\n",
        "dogs_train_df = df_dogs[:train_size_dogs]\n",
        "\n",
        "# Select the last 20% for the test set\n",
        "cats_test_df = df_cats[-test_size_cats:]\n",
        "dogs_test_df = df_dogs[-test_size_dogs:]"
      ],
      "metadata": {
        "id": "eWof9ZoH2tuf"
      },
      "execution_count": 35,
      "outputs": []
    },
    {
      "cell_type": "code",
      "source": [
        "print(f\"Train Data Size (Cats): {train_size_cats}\")\n",
        "print(f\"Test Data Size (Cats): {test_size_cats}\")\n",
        "print(f\"Train Data Size (Dogs): {train_size_dogs}\")\n",
        "print(f\"Test Data Size (Dogs): {test_size_dogs}\")"
      ],
      "metadata": {
        "id": "YV03oFNd21bl",
        "outputId": "293e7b63-eb7d-482a-a2a0-cb0bc09f1980",
        "colab": {
          "base_uri": "https://localhost:8080/"
        }
      },
      "execution_count": 36,
      "outputs": [
        {
          "output_type": "stream",
          "name": "stdout",
          "text": [
            "Train Data Size (Cats): 56\n",
            "Test Data Size (Cats): 14\n",
            "Train Data Size (Dogs): 56\n",
            "Test Data Size (Dogs): 14\n"
          ]
        }
      ]
    },
    {
      "cell_type": "markdown",
      "source": [
        "Save the Train and Test Dataframes to CSV\n",
        "* We saved the training and testing dataframes to CSV files for future use."
      ],
      "metadata": {
        "id": "zMRM1SBv66yJ"
      }
    },
    {
      "cell_type": "code",
      "source": [
        "# Specify the save directory\n",
        "save_dir = \"/content/drive/MyDrive/CSV_catsdogs\"\n",
        "\n",
        "# Use the save_dir variable correctly in the file path\n",
        "cats_train_df.to_csv(f'{save_dir}/cats_train.csv', index=False)\n",
        "dogs_train_df.to_csv(f'{save_dir}/dogs_train.csv', index=False)\n",
        "cats_test_df.to_csv(f'{save_dir}/cats_test.csv', index=False)\n",
        "dogs_test_df.to_csv(f'{save_dir}/dogs_test.csv', index=False)"
      ],
      "metadata": {
        "id": "HU9CcwdPE7eg"
      },
      "execution_count": 37,
      "outputs": []
    },
    {
      "cell_type": "code",
      "source": [
        "print(f\"Train Dataframe Size (Cats): {len(cats_train_df)}\")\n",
        "print(f\"Test Dataframe Size (Cats): {len(cats_test_df)}\")\n",
        "print(f\"Train Dataframe Size (Dogs): {len(dogs_train_df)}\")\n",
        "print(f\"Test Dataframe Size (Dogs): {len(dogs_test_df)}\")"
      ],
      "metadata": {
        "colab": {
          "base_uri": "https://localhost:8080/"
        },
        "id": "EuSXivkWLBbm",
        "outputId": "eafafaa8-3aaa-43d6-e5c9-58b9315f2725"
      },
      "execution_count": 38,
      "outputs": [
        {
          "output_type": "stream",
          "name": "stdout",
          "text": [
            "Train Dataframe Size (Cats): 56\n",
            "Test Dataframe Size (Cats): 14\n",
            "Train Dataframe Size (Dogs): 56\n",
            "Test Dataframe Size (Dogs): 14\n"
          ]
        }
      ]
    },
    {
      "cell_type": "code",
      "source": [
        "cats_train_df.head()"
      ],
      "metadata": {
        "colab": {
          "base_uri": "https://localhost:8080/",
          "height": 206
        },
        "id": "g1-eVPbQKAvc",
        "outputId": "ac1bcad3-90d2-4dec-9dcd-9d087af657e2"
      },
      "execution_count": 39,
      "outputs": [
        {
          "output_type": "execute_result",
          "data": {
            "text/plain": [
              "   cats_filename                                 cats_filepath  \\\n",
              "31         cat_1    /content/drive/MyDrive/test/cats/cat_1.jpg   \n",
              "48       cat_106  /content/drive/MyDrive/test/cats/cat_106.jpg   \n",
              "27       cat_109  /content/drive/MyDrive/test/cats/cat_109.jpg   \n",
              "49       cat_113  /content/drive/MyDrive/test/cats/cat_113.jpg   \n",
              "59       cat_114  /content/drive/MyDrive/test/cats/cat_114.jpg   \n",
              "\n",
              "                                          cats_pixels  \n",
              "31  <PIL.JpegImagePlugin.JpegImageFile image mode=...  \n",
              "48  <PIL.JpegImagePlugin.JpegImageFile image mode=...  \n",
              "27  <PIL.JpegImagePlugin.JpegImageFile image mode=...  \n",
              "49  <PIL.JpegImagePlugin.JpegImageFile image mode=...  \n",
              "59  <PIL.JpegImagePlugin.JpegImageFile image mode=...  "
            ],
            "text/html": [
              "\n",
              "  <div id=\"df-ebf99589-6f20-4c33-b553-36f35202f58f\" class=\"colab-df-container\">\n",
              "    <div>\n",
              "<style scoped>\n",
              "    .dataframe tbody tr th:only-of-type {\n",
              "        vertical-align: middle;\n",
              "    }\n",
              "\n",
              "    .dataframe tbody tr th {\n",
              "        vertical-align: top;\n",
              "    }\n",
              "\n",
              "    .dataframe thead th {\n",
              "        text-align: right;\n",
              "    }\n",
              "</style>\n",
              "<table border=\"1\" class=\"dataframe\">\n",
              "  <thead>\n",
              "    <tr style=\"text-align: right;\">\n",
              "      <th></th>\n",
              "      <th>cats_filename</th>\n",
              "      <th>cats_filepath</th>\n",
              "      <th>cats_pixels</th>\n",
              "    </tr>\n",
              "  </thead>\n",
              "  <tbody>\n",
              "    <tr>\n",
              "      <th>31</th>\n",
              "      <td>cat_1</td>\n",
              "      <td>/content/drive/MyDrive/test/cats/cat_1.jpg</td>\n",
              "      <td>&lt;PIL.JpegImagePlugin.JpegImageFile image mode=...</td>\n",
              "    </tr>\n",
              "    <tr>\n",
              "      <th>48</th>\n",
              "      <td>cat_106</td>\n",
              "      <td>/content/drive/MyDrive/test/cats/cat_106.jpg</td>\n",
              "      <td>&lt;PIL.JpegImagePlugin.JpegImageFile image mode=...</td>\n",
              "    </tr>\n",
              "    <tr>\n",
              "      <th>27</th>\n",
              "      <td>cat_109</td>\n",
              "      <td>/content/drive/MyDrive/test/cats/cat_109.jpg</td>\n",
              "      <td>&lt;PIL.JpegImagePlugin.JpegImageFile image mode=...</td>\n",
              "    </tr>\n",
              "    <tr>\n",
              "      <th>49</th>\n",
              "      <td>cat_113</td>\n",
              "      <td>/content/drive/MyDrive/test/cats/cat_113.jpg</td>\n",
              "      <td>&lt;PIL.JpegImagePlugin.JpegImageFile image mode=...</td>\n",
              "    </tr>\n",
              "    <tr>\n",
              "      <th>59</th>\n",
              "      <td>cat_114</td>\n",
              "      <td>/content/drive/MyDrive/test/cats/cat_114.jpg</td>\n",
              "      <td>&lt;PIL.JpegImagePlugin.JpegImageFile image mode=...</td>\n",
              "    </tr>\n",
              "  </tbody>\n",
              "</table>\n",
              "</div>\n",
              "    <div class=\"colab-df-buttons\">\n",
              "\n",
              "  <div class=\"colab-df-container\">\n",
              "    <button class=\"colab-df-convert\" onclick=\"convertToInteractive('df-ebf99589-6f20-4c33-b553-36f35202f58f')\"\n",
              "            title=\"Convert this dataframe to an interactive table.\"\n",
              "            style=\"display:none;\">\n",
              "\n",
              "  <svg xmlns=\"http://www.w3.org/2000/svg\" height=\"24px\" viewBox=\"0 -960 960 960\">\n",
              "    <path d=\"M120-120v-720h720v720H120Zm60-500h600v-160H180v160Zm220 220h160v-160H400v160Zm0 220h160v-160H400v160ZM180-400h160v-160H180v160Zm440 0h160v-160H620v160ZM180-180h160v-160H180v160Zm440 0h160v-160H620v160Z\"/>\n",
              "  </svg>\n",
              "    </button>\n",
              "\n",
              "  <style>\n",
              "    .colab-df-container {\n",
              "      display:flex;\n",
              "      gap: 12px;\n",
              "    }\n",
              "\n",
              "    .colab-df-convert {\n",
              "      background-color: #E8F0FE;\n",
              "      border: none;\n",
              "      border-radius: 50%;\n",
              "      cursor: pointer;\n",
              "      display: none;\n",
              "      fill: #1967D2;\n",
              "      height: 32px;\n",
              "      padding: 0 0 0 0;\n",
              "      width: 32px;\n",
              "    }\n",
              "\n",
              "    .colab-df-convert:hover {\n",
              "      background-color: #E2EBFA;\n",
              "      box-shadow: 0px 1px 2px rgba(60, 64, 67, 0.3), 0px 1px 3px 1px rgba(60, 64, 67, 0.15);\n",
              "      fill: #174EA6;\n",
              "    }\n",
              "\n",
              "    .colab-df-buttons div {\n",
              "      margin-bottom: 4px;\n",
              "    }\n",
              "\n",
              "    [theme=dark] .colab-df-convert {\n",
              "      background-color: #3B4455;\n",
              "      fill: #D2E3FC;\n",
              "    }\n",
              "\n",
              "    [theme=dark] .colab-df-convert:hover {\n",
              "      background-color: #434B5C;\n",
              "      box-shadow: 0px 1px 3px 1px rgba(0, 0, 0, 0.15);\n",
              "      filter: drop-shadow(0px 1px 2px rgba(0, 0, 0, 0.3));\n",
              "      fill: #FFFFFF;\n",
              "    }\n",
              "  </style>\n",
              "\n",
              "    <script>\n",
              "      const buttonEl =\n",
              "        document.querySelector('#df-ebf99589-6f20-4c33-b553-36f35202f58f button.colab-df-convert');\n",
              "      buttonEl.style.display =\n",
              "        google.colab.kernel.accessAllowed ? 'block' : 'none';\n",
              "\n",
              "      async function convertToInteractive(key) {\n",
              "        const element = document.querySelector('#df-ebf99589-6f20-4c33-b553-36f35202f58f');\n",
              "        const dataTable =\n",
              "          await google.colab.kernel.invokeFunction('convertToInteractive',\n",
              "                                                    [key], {});\n",
              "        if (!dataTable) return;\n",
              "\n",
              "        const docLinkHtml = 'Like what you see? Visit the ' +\n",
              "          '<a target=\"_blank\" href=https://colab.research.google.com/notebooks/data_table.ipynb>data table notebook</a>'\n",
              "          + ' to learn more about interactive tables.';\n",
              "        element.innerHTML = '';\n",
              "        dataTable['output_type'] = 'display_data';\n",
              "        await google.colab.output.renderOutput(dataTable, element);\n",
              "        const docLink = document.createElement('div');\n",
              "        docLink.innerHTML = docLinkHtml;\n",
              "        element.appendChild(docLink);\n",
              "      }\n",
              "    </script>\n",
              "  </div>\n",
              "\n",
              "\n",
              "<div id=\"df-50dc2175-382c-48db-a197-568fceb5f452\">\n",
              "  <button class=\"colab-df-quickchart\" onclick=\"quickchart('df-50dc2175-382c-48db-a197-568fceb5f452')\"\n",
              "            title=\"Suggest charts\"\n",
              "            style=\"display:none;\">\n",
              "\n",
              "<svg xmlns=\"http://www.w3.org/2000/svg\" height=\"24px\"viewBox=\"0 0 24 24\"\n",
              "     width=\"24px\">\n",
              "    <g>\n",
              "        <path d=\"M19 3H5c-1.1 0-2 .9-2 2v14c0 1.1.9 2 2 2h14c1.1 0 2-.9 2-2V5c0-1.1-.9-2-2-2zM9 17H7v-7h2v7zm4 0h-2V7h2v10zm4 0h-2v-4h2v4z\"/>\n",
              "    </g>\n",
              "</svg>\n",
              "  </button>\n",
              "\n",
              "<style>\n",
              "  .colab-df-quickchart {\n",
              "      --bg-color: #E8F0FE;\n",
              "      --fill-color: #1967D2;\n",
              "      --hover-bg-color: #E2EBFA;\n",
              "      --hover-fill-color: #174EA6;\n",
              "      --disabled-fill-color: #AAA;\n",
              "      --disabled-bg-color: #DDD;\n",
              "  }\n",
              "\n",
              "  [theme=dark] .colab-df-quickchart {\n",
              "      --bg-color: #3B4455;\n",
              "      --fill-color: #D2E3FC;\n",
              "      --hover-bg-color: #434B5C;\n",
              "      --hover-fill-color: #FFFFFF;\n",
              "      --disabled-bg-color: #3B4455;\n",
              "      --disabled-fill-color: #666;\n",
              "  }\n",
              "\n",
              "  .colab-df-quickchart {\n",
              "    background-color: var(--bg-color);\n",
              "    border: none;\n",
              "    border-radius: 50%;\n",
              "    cursor: pointer;\n",
              "    display: none;\n",
              "    fill: var(--fill-color);\n",
              "    height: 32px;\n",
              "    padding: 0;\n",
              "    width: 32px;\n",
              "  }\n",
              "\n",
              "  .colab-df-quickchart:hover {\n",
              "    background-color: var(--hover-bg-color);\n",
              "    box-shadow: 0 1px 2px rgba(60, 64, 67, 0.3), 0 1px 3px 1px rgba(60, 64, 67, 0.15);\n",
              "    fill: var(--button-hover-fill-color);\n",
              "  }\n",
              "\n",
              "  .colab-df-quickchart-complete:disabled,\n",
              "  .colab-df-quickchart-complete:disabled:hover {\n",
              "    background-color: var(--disabled-bg-color);\n",
              "    fill: var(--disabled-fill-color);\n",
              "    box-shadow: none;\n",
              "  }\n",
              "\n",
              "  .colab-df-spinner {\n",
              "    border: 2px solid var(--fill-color);\n",
              "    border-color: transparent;\n",
              "    border-bottom-color: var(--fill-color);\n",
              "    animation:\n",
              "      spin 1s steps(1) infinite;\n",
              "  }\n",
              "\n",
              "  @keyframes spin {\n",
              "    0% {\n",
              "      border-color: transparent;\n",
              "      border-bottom-color: var(--fill-color);\n",
              "      border-left-color: var(--fill-color);\n",
              "    }\n",
              "    20% {\n",
              "      border-color: transparent;\n",
              "      border-left-color: var(--fill-color);\n",
              "      border-top-color: var(--fill-color);\n",
              "    }\n",
              "    30% {\n",
              "      border-color: transparent;\n",
              "      border-left-color: var(--fill-color);\n",
              "      border-top-color: var(--fill-color);\n",
              "      border-right-color: var(--fill-color);\n",
              "    }\n",
              "    40% {\n",
              "      border-color: transparent;\n",
              "      border-right-color: var(--fill-color);\n",
              "      border-top-color: var(--fill-color);\n",
              "    }\n",
              "    60% {\n",
              "      border-color: transparent;\n",
              "      border-right-color: var(--fill-color);\n",
              "    }\n",
              "    80% {\n",
              "      border-color: transparent;\n",
              "      border-right-color: var(--fill-color);\n",
              "      border-bottom-color: var(--fill-color);\n",
              "    }\n",
              "    90% {\n",
              "      border-color: transparent;\n",
              "      border-bottom-color: var(--fill-color);\n",
              "    }\n",
              "  }\n",
              "</style>\n",
              "\n",
              "  <script>\n",
              "    async function quickchart(key) {\n",
              "      const quickchartButtonEl =\n",
              "        document.querySelector('#' + key + ' button');\n",
              "      quickchartButtonEl.disabled = true;  // To prevent multiple clicks.\n",
              "      quickchartButtonEl.classList.add('colab-df-spinner');\n",
              "      try {\n",
              "        const charts = await google.colab.kernel.invokeFunction(\n",
              "            'suggestCharts', [key], {});\n",
              "      } catch (error) {\n",
              "        console.error('Error during call to suggestCharts:', error);\n",
              "      }\n",
              "      quickchartButtonEl.classList.remove('colab-df-spinner');\n",
              "      quickchartButtonEl.classList.add('colab-df-quickchart-complete');\n",
              "    }\n",
              "    (() => {\n",
              "      let quickchartButtonEl =\n",
              "        document.querySelector('#df-50dc2175-382c-48db-a197-568fceb5f452 button');\n",
              "      quickchartButtonEl.style.display =\n",
              "        google.colab.kernel.accessAllowed ? 'block' : 'none';\n",
              "    })();\n",
              "  </script>\n",
              "</div>\n",
              "\n",
              "    </div>\n",
              "  </div>\n"
            ],
            "application/vnd.google.colaboratory.intrinsic+json": {
              "type": "dataframe",
              "variable_name": "cats_train_df",
              "summary": "{\n  \"name\": \"cats_train_df\",\n  \"rows\": 56,\n  \"fields\": [\n    {\n      \"column\": \"cats_filename\",\n      \"properties\": {\n        \"dtype\": \"string\",\n        \"num_unique_values\": 56,\n        \"samples\": [\n          \"cat_1\",\n          \"cat_116\",\n          \"cat_371\"\n        ],\n        \"semantic_type\": \"\",\n        \"description\": \"\"\n      }\n    },\n    {\n      \"column\": \"cats_filepath\",\n      \"properties\": {\n        \"dtype\": \"string\",\n        \"num_unique_values\": 56,\n        \"samples\": [\n          \"/content/drive/MyDrive/test/cats/cat_1.jpg\",\n          \"/content/drive/MyDrive/test/cats/cat_116.jpg\",\n          \"/content/drive/MyDrive/test/cats/cat_371.jpg\"\n        ],\n        \"semantic_type\": \"\",\n        \"description\": \"\"\n      }\n    },\n    {\n      \"column\": \"cats_pixels\",\n      \"properties\": {\n        \"dtype\": \"object\",\n        \"semantic_type\": \"\",\n        \"description\": \"\"\n      }\n    }\n  ]\n}"
            }
          },
          "metadata": {},
          "execution_count": 39
        }
      ]
    },
    {
      "cell_type": "code",
      "source": [
        "cats_test_df.head()"
      ],
      "metadata": {
        "colab": {
          "base_uri": "https://localhost:8080/",
          "height": 206
        },
        "id": "H0-IoftBKodm",
        "outputId": "7b3dfe14-a3cf-4f0b-91da-7383b416a634"
      },
      "execution_count": 40,
      "outputs": [
        {
          "output_type": "execute_result",
          "data": {
            "text/plain": [
              "   cats_filename                                 cats_filepath  \\\n",
              "7        cat_551  /content/drive/MyDrive/test/cats/cat_551.jpg   \n",
              "63        cat_56   /content/drive/MyDrive/test/cats/cat_56.jpg   \n",
              "60       cat_564  /content/drive/MyDrive/test/cats/cat_564.jpg   \n",
              "58       cat_574  /content/drive/MyDrive/test/cats/cat_574.jpg   \n",
              "64       cat_575  /content/drive/MyDrive/test/cats/cat_575.jpg   \n",
              "\n",
              "                                          cats_pixels  \n",
              "7   <PIL.JpegImagePlugin.JpegImageFile image mode=...  \n",
              "63  <PIL.JpegImagePlugin.JpegImageFile image mode=...  \n",
              "60  <PIL.JpegImagePlugin.JpegImageFile image mode=...  \n",
              "58  <PIL.JpegImagePlugin.JpegImageFile image mode=...  \n",
              "64  <PIL.JpegImagePlugin.JpegImageFile image mode=...  "
            ],
            "text/html": [
              "\n",
              "  <div id=\"df-0d416c2c-9f34-4aec-b3f4-934a5815eff0\" class=\"colab-df-container\">\n",
              "    <div>\n",
              "<style scoped>\n",
              "    .dataframe tbody tr th:only-of-type {\n",
              "        vertical-align: middle;\n",
              "    }\n",
              "\n",
              "    .dataframe tbody tr th {\n",
              "        vertical-align: top;\n",
              "    }\n",
              "\n",
              "    .dataframe thead th {\n",
              "        text-align: right;\n",
              "    }\n",
              "</style>\n",
              "<table border=\"1\" class=\"dataframe\">\n",
              "  <thead>\n",
              "    <tr style=\"text-align: right;\">\n",
              "      <th></th>\n",
              "      <th>cats_filename</th>\n",
              "      <th>cats_filepath</th>\n",
              "      <th>cats_pixels</th>\n",
              "    </tr>\n",
              "  </thead>\n",
              "  <tbody>\n",
              "    <tr>\n",
              "      <th>7</th>\n",
              "      <td>cat_551</td>\n",
              "      <td>/content/drive/MyDrive/test/cats/cat_551.jpg</td>\n",
              "      <td>&lt;PIL.JpegImagePlugin.JpegImageFile image mode=...</td>\n",
              "    </tr>\n",
              "    <tr>\n",
              "      <th>63</th>\n",
              "      <td>cat_56</td>\n",
              "      <td>/content/drive/MyDrive/test/cats/cat_56.jpg</td>\n",
              "      <td>&lt;PIL.JpegImagePlugin.JpegImageFile image mode=...</td>\n",
              "    </tr>\n",
              "    <tr>\n",
              "      <th>60</th>\n",
              "      <td>cat_564</td>\n",
              "      <td>/content/drive/MyDrive/test/cats/cat_564.jpg</td>\n",
              "      <td>&lt;PIL.JpegImagePlugin.JpegImageFile image mode=...</td>\n",
              "    </tr>\n",
              "    <tr>\n",
              "      <th>58</th>\n",
              "      <td>cat_574</td>\n",
              "      <td>/content/drive/MyDrive/test/cats/cat_574.jpg</td>\n",
              "      <td>&lt;PIL.JpegImagePlugin.JpegImageFile image mode=...</td>\n",
              "    </tr>\n",
              "    <tr>\n",
              "      <th>64</th>\n",
              "      <td>cat_575</td>\n",
              "      <td>/content/drive/MyDrive/test/cats/cat_575.jpg</td>\n",
              "      <td>&lt;PIL.JpegImagePlugin.JpegImageFile image mode=...</td>\n",
              "    </tr>\n",
              "  </tbody>\n",
              "</table>\n",
              "</div>\n",
              "    <div class=\"colab-df-buttons\">\n",
              "\n",
              "  <div class=\"colab-df-container\">\n",
              "    <button class=\"colab-df-convert\" onclick=\"convertToInteractive('df-0d416c2c-9f34-4aec-b3f4-934a5815eff0')\"\n",
              "            title=\"Convert this dataframe to an interactive table.\"\n",
              "            style=\"display:none;\">\n",
              "\n",
              "  <svg xmlns=\"http://www.w3.org/2000/svg\" height=\"24px\" viewBox=\"0 -960 960 960\">\n",
              "    <path d=\"M120-120v-720h720v720H120Zm60-500h600v-160H180v160Zm220 220h160v-160H400v160Zm0 220h160v-160H400v160ZM180-400h160v-160H180v160Zm440 0h160v-160H620v160ZM180-180h160v-160H180v160Zm440 0h160v-160H620v160Z\"/>\n",
              "  </svg>\n",
              "    </button>\n",
              "\n",
              "  <style>\n",
              "    .colab-df-container {\n",
              "      display:flex;\n",
              "      gap: 12px;\n",
              "    }\n",
              "\n",
              "    .colab-df-convert {\n",
              "      background-color: #E8F0FE;\n",
              "      border: none;\n",
              "      border-radius: 50%;\n",
              "      cursor: pointer;\n",
              "      display: none;\n",
              "      fill: #1967D2;\n",
              "      height: 32px;\n",
              "      padding: 0 0 0 0;\n",
              "      width: 32px;\n",
              "    }\n",
              "\n",
              "    .colab-df-convert:hover {\n",
              "      background-color: #E2EBFA;\n",
              "      box-shadow: 0px 1px 2px rgba(60, 64, 67, 0.3), 0px 1px 3px 1px rgba(60, 64, 67, 0.15);\n",
              "      fill: #174EA6;\n",
              "    }\n",
              "\n",
              "    .colab-df-buttons div {\n",
              "      margin-bottom: 4px;\n",
              "    }\n",
              "\n",
              "    [theme=dark] .colab-df-convert {\n",
              "      background-color: #3B4455;\n",
              "      fill: #D2E3FC;\n",
              "    }\n",
              "\n",
              "    [theme=dark] .colab-df-convert:hover {\n",
              "      background-color: #434B5C;\n",
              "      box-shadow: 0px 1px 3px 1px rgba(0, 0, 0, 0.15);\n",
              "      filter: drop-shadow(0px 1px 2px rgba(0, 0, 0, 0.3));\n",
              "      fill: #FFFFFF;\n",
              "    }\n",
              "  </style>\n",
              "\n",
              "    <script>\n",
              "      const buttonEl =\n",
              "        document.querySelector('#df-0d416c2c-9f34-4aec-b3f4-934a5815eff0 button.colab-df-convert');\n",
              "      buttonEl.style.display =\n",
              "        google.colab.kernel.accessAllowed ? 'block' : 'none';\n",
              "\n",
              "      async function convertToInteractive(key) {\n",
              "        const element = document.querySelector('#df-0d416c2c-9f34-4aec-b3f4-934a5815eff0');\n",
              "        const dataTable =\n",
              "          await google.colab.kernel.invokeFunction('convertToInteractive',\n",
              "                                                    [key], {});\n",
              "        if (!dataTable) return;\n",
              "\n",
              "        const docLinkHtml = 'Like what you see? Visit the ' +\n",
              "          '<a target=\"_blank\" href=https://colab.research.google.com/notebooks/data_table.ipynb>data table notebook</a>'\n",
              "          + ' to learn more about interactive tables.';\n",
              "        element.innerHTML = '';\n",
              "        dataTable['output_type'] = 'display_data';\n",
              "        await google.colab.output.renderOutput(dataTable, element);\n",
              "        const docLink = document.createElement('div');\n",
              "        docLink.innerHTML = docLinkHtml;\n",
              "        element.appendChild(docLink);\n",
              "      }\n",
              "    </script>\n",
              "  </div>\n",
              "\n",
              "\n",
              "<div id=\"df-9ca5ce7c-313a-4827-8328-061819464a3d\">\n",
              "  <button class=\"colab-df-quickchart\" onclick=\"quickchart('df-9ca5ce7c-313a-4827-8328-061819464a3d')\"\n",
              "            title=\"Suggest charts\"\n",
              "            style=\"display:none;\">\n",
              "\n",
              "<svg xmlns=\"http://www.w3.org/2000/svg\" height=\"24px\"viewBox=\"0 0 24 24\"\n",
              "     width=\"24px\">\n",
              "    <g>\n",
              "        <path d=\"M19 3H5c-1.1 0-2 .9-2 2v14c0 1.1.9 2 2 2h14c1.1 0 2-.9 2-2V5c0-1.1-.9-2-2-2zM9 17H7v-7h2v7zm4 0h-2V7h2v10zm4 0h-2v-4h2v4z\"/>\n",
              "    </g>\n",
              "</svg>\n",
              "  </button>\n",
              "\n",
              "<style>\n",
              "  .colab-df-quickchart {\n",
              "      --bg-color: #E8F0FE;\n",
              "      --fill-color: #1967D2;\n",
              "      --hover-bg-color: #E2EBFA;\n",
              "      --hover-fill-color: #174EA6;\n",
              "      --disabled-fill-color: #AAA;\n",
              "      --disabled-bg-color: #DDD;\n",
              "  }\n",
              "\n",
              "  [theme=dark] .colab-df-quickchart {\n",
              "      --bg-color: #3B4455;\n",
              "      --fill-color: #D2E3FC;\n",
              "      --hover-bg-color: #434B5C;\n",
              "      --hover-fill-color: #FFFFFF;\n",
              "      --disabled-bg-color: #3B4455;\n",
              "      --disabled-fill-color: #666;\n",
              "  }\n",
              "\n",
              "  .colab-df-quickchart {\n",
              "    background-color: var(--bg-color);\n",
              "    border: none;\n",
              "    border-radius: 50%;\n",
              "    cursor: pointer;\n",
              "    display: none;\n",
              "    fill: var(--fill-color);\n",
              "    height: 32px;\n",
              "    padding: 0;\n",
              "    width: 32px;\n",
              "  }\n",
              "\n",
              "  .colab-df-quickchart:hover {\n",
              "    background-color: var(--hover-bg-color);\n",
              "    box-shadow: 0 1px 2px rgba(60, 64, 67, 0.3), 0 1px 3px 1px rgba(60, 64, 67, 0.15);\n",
              "    fill: var(--button-hover-fill-color);\n",
              "  }\n",
              "\n",
              "  .colab-df-quickchart-complete:disabled,\n",
              "  .colab-df-quickchart-complete:disabled:hover {\n",
              "    background-color: var(--disabled-bg-color);\n",
              "    fill: var(--disabled-fill-color);\n",
              "    box-shadow: none;\n",
              "  }\n",
              "\n",
              "  .colab-df-spinner {\n",
              "    border: 2px solid var(--fill-color);\n",
              "    border-color: transparent;\n",
              "    border-bottom-color: var(--fill-color);\n",
              "    animation:\n",
              "      spin 1s steps(1) infinite;\n",
              "  }\n",
              "\n",
              "  @keyframes spin {\n",
              "    0% {\n",
              "      border-color: transparent;\n",
              "      border-bottom-color: var(--fill-color);\n",
              "      border-left-color: var(--fill-color);\n",
              "    }\n",
              "    20% {\n",
              "      border-color: transparent;\n",
              "      border-left-color: var(--fill-color);\n",
              "      border-top-color: var(--fill-color);\n",
              "    }\n",
              "    30% {\n",
              "      border-color: transparent;\n",
              "      border-left-color: var(--fill-color);\n",
              "      border-top-color: var(--fill-color);\n",
              "      border-right-color: var(--fill-color);\n",
              "    }\n",
              "    40% {\n",
              "      border-color: transparent;\n",
              "      border-right-color: var(--fill-color);\n",
              "      border-top-color: var(--fill-color);\n",
              "    }\n",
              "    60% {\n",
              "      border-color: transparent;\n",
              "      border-right-color: var(--fill-color);\n",
              "    }\n",
              "    80% {\n",
              "      border-color: transparent;\n",
              "      border-right-color: var(--fill-color);\n",
              "      border-bottom-color: var(--fill-color);\n",
              "    }\n",
              "    90% {\n",
              "      border-color: transparent;\n",
              "      border-bottom-color: var(--fill-color);\n",
              "    }\n",
              "  }\n",
              "</style>\n",
              "\n",
              "  <script>\n",
              "    async function quickchart(key) {\n",
              "      const quickchartButtonEl =\n",
              "        document.querySelector('#' + key + ' button');\n",
              "      quickchartButtonEl.disabled = true;  // To prevent multiple clicks.\n",
              "      quickchartButtonEl.classList.add('colab-df-spinner');\n",
              "      try {\n",
              "        const charts = await google.colab.kernel.invokeFunction(\n",
              "            'suggestCharts', [key], {});\n",
              "      } catch (error) {\n",
              "        console.error('Error during call to suggestCharts:', error);\n",
              "      }\n",
              "      quickchartButtonEl.classList.remove('colab-df-spinner');\n",
              "      quickchartButtonEl.classList.add('colab-df-quickchart-complete');\n",
              "    }\n",
              "    (() => {\n",
              "      let quickchartButtonEl =\n",
              "        document.querySelector('#df-9ca5ce7c-313a-4827-8328-061819464a3d button');\n",
              "      quickchartButtonEl.style.display =\n",
              "        google.colab.kernel.accessAllowed ? 'block' : 'none';\n",
              "    })();\n",
              "  </script>\n",
              "</div>\n",
              "\n",
              "    </div>\n",
              "  </div>\n"
            ],
            "application/vnd.google.colaboratory.intrinsic+json": {
              "type": "dataframe",
              "variable_name": "cats_test_df",
              "summary": "{\n  \"name\": \"cats_test_df\",\n  \"rows\": 14,\n  \"fields\": [\n    {\n      \"column\": \"cats_filename\",\n      \"properties\": {\n        \"dtype\": \"string\",\n        \"num_unique_values\": 14,\n        \"samples\": [\n          \"cat_595\",\n          \"cat_88\",\n          \"cat_551\"\n        ],\n        \"semantic_type\": \"\",\n        \"description\": \"\"\n      }\n    },\n    {\n      \"column\": \"cats_filepath\",\n      \"properties\": {\n        \"dtype\": \"string\",\n        \"num_unique_values\": 14,\n        \"samples\": [\n          \"/content/drive/MyDrive/test/cats/cat_595.jpg\",\n          \"/content/drive/MyDrive/test/cats/cat_88.jpg\",\n          \"/content/drive/MyDrive/test/cats/cat_551.jpg\"\n        ],\n        \"semantic_type\": \"\",\n        \"description\": \"\"\n      }\n    },\n    {\n      \"column\": \"cats_pixels\",\n      \"properties\": {\n        \"dtype\": \"object\",\n        \"semantic_type\": \"\",\n        \"description\": \"\"\n      }\n    }\n  ]\n}"
            }
          },
          "metadata": {},
          "execution_count": 40
        }
      ]
    },
    {
      "cell_type": "code",
      "source": [
        "dogs_train_df.head()"
      ],
      "metadata": {
        "colab": {
          "base_uri": "https://localhost:8080/",
          "height": 206
        },
        "id": "EjFsiBG6KqXe",
        "outputId": "3042fb1f-47fb-4858-b3b6-9fab9cfc8d5b"
      },
      "execution_count": 41,
      "outputs": [
        {
          "output_type": "execute_result",
          "data": {
            "text/plain": [
              "   dogs_filename                                 dogs_filepath  \\\n",
              "55       dog_114  /content/drive/MyDrive/test/dogs/dog_114.jpg   \n",
              "34       dog_123  /content/drive/MyDrive/test/dogs/dog_123.jpg   \n",
              "22       dog_124  /content/drive/MyDrive/test/dogs/dog_124.jpg   \n",
              "26       dog_130  /content/drive/MyDrive/test/dogs/dog_130.jpg   \n",
              "12       dog_141  /content/drive/MyDrive/test/dogs/dog_141.jpg   \n",
              "\n",
              "                                          dogs_pixels  \n",
              "55  <PIL.JpegImagePlugin.JpegImageFile image mode=...  \n",
              "34  <PIL.JpegImagePlugin.JpegImageFile image mode=...  \n",
              "22  <PIL.JpegImagePlugin.JpegImageFile image mode=...  \n",
              "26  <PIL.JpegImagePlugin.JpegImageFile image mode=...  \n",
              "12  <PIL.JpegImagePlugin.JpegImageFile image mode=...  "
            ],
            "text/html": [
              "\n",
              "  <div id=\"df-2793761b-f89e-4990-8849-8cd47aa5d14f\" class=\"colab-df-container\">\n",
              "    <div>\n",
              "<style scoped>\n",
              "    .dataframe tbody tr th:only-of-type {\n",
              "        vertical-align: middle;\n",
              "    }\n",
              "\n",
              "    .dataframe tbody tr th {\n",
              "        vertical-align: top;\n",
              "    }\n",
              "\n",
              "    .dataframe thead th {\n",
              "        text-align: right;\n",
              "    }\n",
              "</style>\n",
              "<table border=\"1\" class=\"dataframe\">\n",
              "  <thead>\n",
              "    <tr style=\"text-align: right;\">\n",
              "      <th></th>\n",
              "      <th>dogs_filename</th>\n",
              "      <th>dogs_filepath</th>\n",
              "      <th>dogs_pixels</th>\n",
              "    </tr>\n",
              "  </thead>\n",
              "  <tbody>\n",
              "    <tr>\n",
              "      <th>55</th>\n",
              "      <td>dog_114</td>\n",
              "      <td>/content/drive/MyDrive/test/dogs/dog_114.jpg</td>\n",
              "      <td>&lt;PIL.JpegImagePlugin.JpegImageFile image mode=...</td>\n",
              "    </tr>\n",
              "    <tr>\n",
              "      <th>34</th>\n",
              "      <td>dog_123</td>\n",
              "      <td>/content/drive/MyDrive/test/dogs/dog_123.jpg</td>\n",
              "      <td>&lt;PIL.JpegImagePlugin.JpegImageFile image mode=...</td>\n",
              "    </tr>\n",
              "    <tr>\n",
              "      <th>22</th>\n",
              "      <td>dog_124</td>\n",
              "      <td>/content/drive/MyDrive/test/dogs/dog_124.jpg</td>\n",
              "      <td>&lt;PIL.JpegImagePlugin.JpegImageFile image mode=...</td>\n",
              "    </tr>\n",
              "    <tr>\n",
              "      <th>26</th>\n",
              "      <td>dog_130</td>\n",
              "      <td>/content/drive/MyDrive/test/dogs/dog_130.jpg</td>\n",
              "      <td>&lt;PIL.JpegImagePlugin.JpegImageFile image mode=...</td>\n",
              "    </tr>\n",
              "    <tr>\n",
              "      <th>12</th>\n",
              "      <td>dog_141</td>\n",
              "      <td>/content/drive/MyDrive/test/dogs/dog_141.jpg</td>\n",
              "      <td>&lt;PIL.JpegImagePlugin.JpegImageFile image mode=...</td>\n",
              "    </tr>\n",
              "  </tbody>\n",
              "</table>\n",
              "</div>\n",
              "    <div class=\"colab-df-buttons\">\n",
              "\n",
              "  <div class=\"colab-df-container\">\n",
              "    <button class=\"colab-df-convert\" onclick=\"convertToInteractive('df-2793761b-f89e-4990-8849-8cd47aa5d14f')\"\n",
              "            title=\"Convert this dataframe to an interactive table.\"\n",
              "            style=\"display:none;\">\n",
              "\n",
              "  <svg xmlns=\"http://www.w3.org/2000/svg\" height=\"24px\" viewBox=\"0 -960 960 960\">\n",
              "    <path d=\"M120-120v-720h720v720H120Zm60-500h600v-160H180v160Zm220 220h160v-160H400v160Zm0 220h160v-160H400v160ZM180-400h160v-160H180v160Zm440 0h160v-160H620v160ZM180-180h160v-160H180v160Zm440 0h160v-160H620v160Z\"/>\n",
              "  </svg>\n",
              "    </button>\n",
              "\n",
              "  <style>\n",
              "    .colab-df-container {\n",
              "      display:flex;\n",
              "      gap: 12px;\n",
              "    }\n",
              "\n",
              "    .colab-df-convert {\n",
              "      background-color: #E8F0FE;\n",
              "      border: none;\n",
              "      border-radius: 50%;\n",
              "      cursor: pointer;\n",
              "      display: none;\n",
              "      fill: #1967D2;\n",
              "      height: 32px;\n",
              "      padding: 0 0 0 0;\n",
              "      width: 32px;\n",
              "    }\n",
              "\n",
              "    .colab-df-convert:hover {\n",
              "      background-color: #E2EBFA;\n",
              "      box-shadow: 0px 1px 2px rgba(60, 64, 67, 0.3), 0px 1px 3px 1px rgba(60, 64, 67, 0.15);\n",
              "      fill: #174EA6;\n",
              "    }\n",
              "\n",
              "    .colab-df-buttons div {\n",
              "      margin-bottom: 4px;\n",
              "    }\n",
              "\n",
              "    [theme=dark] .colab-df-convert {\n",
              "      background-color: #3B4455;\n",
              "      fill: #D2E3FC;\n",
              "    }\n",
              "\n",
              "    [theme=dark] .colab-df-convert:hover {\n",
              "      background-color: #434B5C;\n",
              "      box-shadow: 0px 1px 3px 1px rgba(0, 0, 0, 0.15);\n",
              "      filter: drop-shadow(0px 1px 2px rgba(0, 0, 0, 0.3));\n",
              "      fill: #FFFFFF;\n",
              "    }\n",
              "  </style>\n",
              "\n",
              "    <script>\n",
              "      const buttonEl =\n",
              "        document.querySelector('#df-2793761b-f89e-4990-8849-8cd47aa5d14f button.colab-df-convert');\n",
              "      buttonEl.style.display =\n",
              "        google.colab.kernel.accessAllowed ? 'block' : 'none';\n",
              "\n",
              "      async function convertToInteractive(key) {\n",
              "        const element = document.querySelector('#df-2793761b-f89e-4990-8849-8cd47aa5d14f');\n",
              "        const dataTable =\n",
              "          await google.colab.kernel.invokeFunction('convertToInteractive',\n",
              "                                                    [key], {});\n",
              "        if (!dataTable) return;\n",
              "\n",
              "        const docLinkHtml = 'Like what you see? Visit the ' +\n",
              "          '<a target=\"_blank\" href=https://colab.research.google.com/notebooks/data_table.ipynb>data table notebook</a>'\n",
              "          + ' to learn more about interactive tables.';\n",
              "        element.innerHTML = '';\n",
              "        dataTable['output_type'] = 'display_data';\n",
              "        await google.colab.output.renderOutput(dataTable, element);\n",
              "        const docLink = document.createElement('div');\n",
              "        docLink.innerHTML = docLinkHtml;\n",
              "        element.appendChild(docLink);\n",
              "      }\n",
              "    </script>\n",
              "  </div>\n",
              "\n",
              "\n",
              "<div id=\"df-6090bc78-612c-4efd-8e1e-3fd1fe25a825\">\n",
              "  <button class=\"colab-df-quickchart\" onclick=\"quickchart('df-6090bc78-612c-4efd-8e1e-3fd1fe25a825')\"\n",
              "            title=\"Suggest charts\"\n",
              "            style=\"display:none;\">\n",
              "\n",
              "<svg xmlns=\"http://www.w3.org/2000/svg\" height=\"24px\"viewBox=\"0 0 24 24\"\n",
              "     width=\"24px\">\n",
              "    <g>\n",
              "        <path d=\"M19 3H5c-1.1 0-2 .9-2 2v14c0 1.1.9 2 2 2h14c1.1 0 2-.9 2-2V5c0-1.1-.9-2-2-2zM9 17H7v-7h2v7zm4 0h-2V7h2v10zm4 0h-2v-4h2v4z\"/>\n",
              "    </g>\n",
              "</svg>\n",
              "  </button>\n",
              "\n",
              "<style>\n",
              "  .colab-df-quickchart {\n",
              "      --bg-color: #E8F0FE;\n",
              "      --fill-color: #1967D2;\n",
              "      --hover-bg-color: #E2EBFA;\n",
              "      --hover-fill-color: #174EA6;\n",
              "      --disabled-fill-color: #AAA;\n",
              "      --disabled-bg-color: #DDD;\n",
              "  }\n",
              "\n",
              "  [theme=dark] .colab-df-quickchart {\n",
              "      --bg-color: #3B4455;\n",
              "      --fill-color: #D2E3FC;\n",
              "      --hover-bg-color: #434B5C;\n",
              "      --hover-fill-color: #FFFFFF;\n",
              "      --disabled-bg-color: #3B4455;\n",
              "      --disabled-fill-color: #666;\n",
              "  }\n",
              "\n",
              "  .colab-df-quickchart {\n",
              "    background-color: var(--bg-color);\n",
              "    border: none;\n",
              "    border-radius: 50%;\n",
              "    cursor: pointer;\n",
              "    display: none;\n",
              "    fill: var(--fill-color);\n",
              "    height: 32px;\n",
              "    padding: 0;\n",
              "    width: 32px;\n",
              "  }\n",
              "\n",
              "  .colab-df-quickchart:hover {\n",
              "    background-color: var(--hover-bg-color);\n",
              "    box-shadow: 0 1px 2px rgba(60, 64, 67, 0.3), 0 1px 3px 1px rgba(60, 64, 67, 0.15);\n",
              "    fill: var(--button-hover-fill-color);\n",
              "  }\n",
              "\n",
              "  .colab-df-quickchart-complete:disabled,\n",
              "  .colab-df-quickchart-complete:disabled:hover {\n",
              "    background-color: var(--disabled-bg-color);\n",
              "    fill: var(--disabled-fill-color);\n",
              "    box-shadow: none;\n",
              "  }\n",
              "\n",
              "  .colab-df-spinner {\n",
              "    border: 2px solid var(--fill-color);\n",
              "    border-color: transparent;\n",
              "    border-bottom-color: var(--fill-color);\n",
              "    animation:\n",
              "      spin 1s steps(1) infinite;\n",
              "  }\n",
              "\n",
              "  @keyframes spin {\n",
              "    0% {\n",
              "      border-color: transparent;\n",
              "      border-bottom-color: var(--fill-color);\n",
              "      border-left-color: var(--fill-color);\n",
              "    }\n",
              "    20% {\n",
              "      border-color: transparent;\n",
              "      border-left-color: var(--fill-color);\n",
              "      border-top-color: var(--fill-color);\n",
              "    }\n",
              "    30% {\n",
              "      border-color: transparent;\n",
              "      border-left-color: var(--fill-color);\n",
              "      border-top-color: var(--fill-color);\n",
              "      border-right-color: var(--fill-color);\n",
              "    }\n",
              "    40% {\n",
              "      border-color: transparent;\n",
              "      border-right-color: var(--fill-color);\n",
              "      border-top-color: var(--fill-color);\n",
              "    }\n",
              "    60% {\n",
              "      border-color: transparent;\n",
              "      border-right-color: var(--fill-color);\n",
              "    }\n",
              "    80% {\n",
              "      border-color: transparent;\n",
              "      border-right-color: var(--fill-color);\n",
              "      border-bottom-color: var(--fill-color);\n",
              "    }\n",
              "    90% {\n",
              "      border-color: transparent;\n",
              "      border-bottom-color: var(--fill-color);\n",
              "    }\n",
              "  }\n",
              "</style>\n",
              "\n",
              "  <script>\n",
              "    async function quickchart(key) {\n",
              "      const quickchartButtonEl =\n",
              "        document.querySelector('#' + key + ' button');\n",
              "      quickchartButtonEl.disabled = true;  // To prevent multiple clicks.\n",
              "      quickchartButtonEl.classList.add('colab-df-spinner');\n",
              "      try {\n",
              "        const charts = await google.colab.kernel.invokeFunction(\n",
              "            'suggestCharts', [key], {});\n",
              "      } catch (error) {\n",
              "        console.error('Error during call to suggestCharts:', error);\n",
              "      }\n",
              "      quickchartButtonEl.classList.remove('colab-df-spinner');\n",
              "      quickchartButtonEl.classList.add('colab-df-quickchart-complete');\n",
              "    }\n",
              "    (() => {\n",
              "      let quickchartButtonEl =\n",
              "        document.querySelector('#df-6090bc78-612c-4efd-8e1e-3fd1fe25a825 button');\n",
              "      quickchartButtonEl.style.display =\n",
              "        google.colab.kernel.accessAllowed ? 'block' : 'none';\n",
              "    })();\n",
              "  </script>\n",
              "</div>\n",
              "\n",
              "    </div>\n",
              "  </div>\n"
            ],
            "application/vnd.google.colaboratory.intrinsic+json": {
              "type": "dataframe",
              "variable_name": "dogs_train_df",
              "summary": "{\n  \"name\": \"dogs_train_df\",\n  \"rows\": 56,\n  \"fields\": [\n    {\n      \"column\": \"dogs_filename\",\n      \"properties\": {\n        \"dtype\": \"string\",\n        \"num_unique_values\": 56,\n        \"samples\": [\n          \"dog_114\",\n          \"dog_142\",\n          \"dog_327\"\n        ],\n        \"semantic_type\": \"\",\n        \"description\": \"\"\n      }\n    },\n    {\n      \"column\": \"dogs_filepath\",\n      \"properties\": {\n        \"dtype\": \"string\",\n        \"num_unique_values\": 56,\n        \"samples\": [\n          \"/content/drive/MyDrive/test/dogs/dog_114.jpg\",\n          \"/content/drive/MyDrive/test/dogs/dog_142.jpg\",\n          \"/content/drive/MyDrive/test/dogs/dog_327.jpg\"\n        ],\n        \"semantic_type\": \"\",\n        \"description\": \"\"\n      }\n    },\n    {\n      \"column\": \"dogs_pixels\",\n      \"properties\": {\n        \"dtype\": \"object\",\n        \"semantic_type\": \"\",\n        \"description\": \"\"\n      }\n    }\n  ]\n}"
            }
          },
          "metadata": {},
          "execution_count": 41
        }
      ]
    },
    {
      "cell_type": "code",
      "source": [
        "dogs_test_df.head()"
      ],
      "metadata": {
        "colab": {
          "base_uri": "https://localhost:8080/",
          "height": 206
        },
        "id": "oLyMkCaJKtRP",
        "outputId": "30efcd12-8774-48ef-8898-765ad1918149"
      },
      "execution_count": 42,
      "outputs": [
        {
          "output_type": "execute_result",
          "data": {
            "text/plain": [
              "   dogs_filename                                 dogs_filepath  \\\n",
              "24       dog_518  /content/drive/MyDrive/test/dogs/dog_518.jpg   \n",
              "40       dog_519  /content/drive/MyDrive/test/dogs/dog_519.jpg   \n",
              "35       dog_520  /content/drive/MyDrive/test/dogs/dog_520.jpg   \n",
              "27       dog_521  /content/drive/MyDrive/test/dogs/dog_521.jpg   \n",
              "37       dog_522  /content/drive/MyDrive/test/dogs/dog_522.jpg   \n",
              "\n",
              "                                          dogs_pixels  \n",
              "24  <PIL.JpegImagePlugin.JpegImageFile image mode=...  \n",
              "40  <PIL.JpegImagePlugin.JpegImageFile image mode=...  \n",
              "35  <PIL.JpegImagePlugin.JpegImageFile image mode=...  \n",
              "27  <PIL.JpegImagePlugin.JpegImageFile image mode=...  \n",
              "37  <PIL.JpegImagePlugin.JpegImageFile image mode=...  "
            ],
            "text/html": [
              "\n",
              "  <div id=\"df-60dae87b-7d1d-4dad-b0e3-1c06391920ce\" class=\"colab-df-container\">\n",
              "    <div>\n",
              "<style scoped>\n",
              "    .dataframe tbody tr th:only-of-type {\n",
              "        vertical-align: middle;\n",
              "    }\n",
              "\n",
              "    .dataframe tbody tr th {\n",
              "        vertical-align: top;\n",
              "    }\n",
              "\n",
              "    .dataframe thead th {\n",
              "        text-align: right;\n",
              "    }\n",
              "</style>\n",
              "<table border=\"1\" class=\"dataframe\">\n",
              "  <thead>\n",
              "    <tr style=\"text-align: right;\">\n",
              "      <th></th>\n",
              "      <th>dogs_filename</th>\n",
              "      <th>dogs_filepath</th>\n",
              "      <th>dogs_pixels</th>\n",
              "    </tr>\n",
              "  </thead>\n",
              "  <tbody>\n",
              "    <tr>\n",
              "      <th>24</th>\n",
              "      <td>dog_518</td>\n",
              "      <td>/content/drive/MyDrive/test/dogs/dog_518.jpg</td>\n",
              "      <td>&lt;PIL.JpegImagePlugin.JpegImageFile image mode=...</td>\n",
              "    </tr>\n",
              "    <tr>\n",
              "      <th>40</th>\n",
              "      <td>dog_519</td>\n",
              "      <td>/content/drive/MyDrive/test/dogs/dog_519.jpg</td>\n",
              "      <td>&lt;PIL.JpegImagePlugin.JpegImageFile image mode=...</td>\n",
              "    </tr>\n",
              "    <tr>\n",
              "      <th>35</th>\n",
              "      <td>dog_520</td>\n",
              "      <td>/content/drive/MyDrive/test/dogs/dog_520.jpg</td>\n",
              "      <td>&lt;PIL.JpegImagePlugin.JpegImageFile image mode=...</td>\n",
              "    </tr>\n",
              "    <tr>\n",
              "      <th>27</th>\n",
              "      <td>dog_521</td>\n",
              "      <td>/content/drive/MyDrive/test/dogs/dog_521.jpg</td>\n",
              "      <td>&lt;PIL.JpegImagePlugin.JpegImageFile image mode=...</td>\n",
              "    </tr>\n",
              "    <tr>\n",
              "      <th>37</th>\n",
              "      <td>dog_522</td>\n",
              "      <td>/content/drive/MyDrive/test/dogs/dog_522.jpg</td>\n",
              "      <td>&lt;PIL.JpegImagePlugin.JpegImageFile image mode=...</td>\n",
              "    </tr>\n",
              "  </tbody>\n",
              "</table>\n",
              "</div>\n",
              "    <div class=\"colab-df-buttons\">\n",
              "\n",
              "  <div class=\"colab-df-container\">\n",
              "    <button class=\"colab-df-convert\" onclick=\"convertToInteractive('df-60dae87b-7d1d-4dad-b0e3-1c06391920ce')\"\n",
              "            title=\"Convert this dataframe to an interactive table.\"\n",
              "            style=\"display:none;\">\n",
              "\n",
              "  <svg xmlns=\"http://www.w3.org/2000/svg\" height=\"24px\" viewBox=\"0 -960 960 960\">\n",
              "    <path d=\"M120-120v-720h720v720H120Zm60-500h600v-160H180v160Zm220 220h160v-160H400v160Zm0 220h160v-160H400v160ZM180-400h160v-160H180v160Zm440 0h160v-160H620v160ZM180-180h160v-160H180v160Zm440 0h160v-160H620v160Z\"/>\n",
              "  </svg>\n",
              "    </button>\n",
              "\n",
              "  <style>\n",
              "    .colab-df-container {\n",
              "      display:flex;\n",
              "      gap: 12px;\n",
              "    }\n",
              "\n",
              "    .colab-df-convert {\n",
              "      background-color: #E8F0FE;\n",
              "      border: none;\n",
              "      border-radius: 50%;\n",
              "      cursor: pointer;\n",
              "      display: none;\n",
              "      fill: #1967D2;\n",
              "      height: 32px;\n",
              "      padding: 0 0 0 0;\n",
              "      width: 32px;\n",
              "    }\n",
              "\n",
              "    .colab-df-convert:hover {\n",
              "      background-color: #E2EBFA;\n",
              "      box-shadow: 0px 1px 2px rgba(60, 64, 67, 0.3), 0px 1px 3px 1px rgba(60, 64, 67, 0.15);\n",
              "      fill: #174EA6;\n",
              "    }\n",
              "\n",
              "    .colab-df-buttons div {\n",
              "      margin-bottom: 4px;\n",
              "    }\n",
              "\n",
              "    [theme=dark] .colab-df-convert {\n",
              "      background-color: #3B4455;\n",
              "      fill: #D2E3FC;\n",
              "    }\n",
              "\n",
              "    [theme=dark] .colab-df-convert:hover {\n",
              "      background-color: #434B5C;\n",
              "      box-shadow: 0px 1px 3px 1px rgba(0, 0, 0, 0.15);\n",
              "      filter: drop-shadow(0px 1px 2px rgba(0, 0, 0, 0.3));\n",
              "      fill: #FFFFFF;\n",
              "    }\n",
              "  </style>\n",
              "\n",
              "    <script>\n",
              "      const buttonEl =\n",
              "        document.querySelector('#df-60dae87b-7d1d-4dad-b0e3-1c06391920ce button.colab-df-convert');\n",
              "      buttonEl.style.display =\n",
              "        google.colab.kernel.accessAllowed ? 'block' : 'none';\n",
              "\n",
              "      async function convertToInteractive(key) {\n",
              "        const element = document.querySelector('#df-60dae87b-7d1d-4dad-b0e3-1c06391920ce');\n",
              "        const dataTable =\n",
              "          await google.colab.kernel.invokeFunction('convertToInteractive',\n",
              "                                                    [key], {});\n",
              "        if (!dataTable) return;\n",
              "\n",
              "        const docLinkHtml = 'Like what you see? Visit the ' +\n",
              "          '<a target=\"_blank\" href=https://colab.research.google.com/notebooks/data_table.ipynb>data table notebook</a>'\n",
              "          + ' to learn more about interactive tables.';\n",
              "        element.innerHTML = '';\n",
              "        dataTable['output_type'] = 'display_data';\n",
              "        await google.colab.output.renderOutput(dataTable, element);\n",
              "        const docLink = document.createElement('div');\n",
              "        docLink.innerHTML = docLinkHtml;\n",
              "        element.appendChild(docLink);\n",
              "      }\n",
              "    </script>\n",
              "  </div>\n",
              "\n",
              "\n",
              "<div id=\"df-8c81bd30-0452-4ae0-b4af-b5173cf8b083\">\n",
              "  <button class=\"colab-df-quickchart\" onclick=\"quickchart('df-8c81bd30-0452-4ae0-b4af-b5173cf8b083')\"\n",
              "            title=\"Suggest charts\"\n",
              "            style=\"display:none;\">\n",
              "\n",
              "<svg xmlns=\"http://www.w3.org/2000/svg\" height=\"24px\"viewBox=\"0 0 24 24\"\n",
              "     width=\"24px\">\n",
              "    <g>\n",
              "        <path d=\"M19 3H5c-1.1 0-2 .9-2 2v14c0 1.1.9 2 2 2h14c1.1 0 2-.9 2-2V5c0-1.1-.9-2-2-2zM9 17H7v-7h2v7zm4 0h-2V7h2v10zm4 0h-2v-4h2v4z\"/>\n",
              "    </g>\n",
              "</svg>\n",
              "  </button>\n",
              "\n",
              "<style>\n",
              "  .colab-df-quickchart {\n",
              "      --bg-color: #E8F0FE;\n",
              "      --fill-color: #1967D2;\n",
              "      --hover-bg-color: #E2EBFA;\n",
              "      --hover-fill-color: #174EA6;\n",
              "      --disabled-fill-color: #AAA;\n",
              "      --disabled-bg-color: #DDD;\n",
              "  }\n",
              "\n",
              "  [theme=dark] .colab-df-quickchart {\n",
              "      --bg-color: #3B4455;\n",
              "      --fill-color: #D2E3FC;\n",
              "      --hover-bg-color: #434B5C;\n",
              "      --hover-fill-color: #FFFFFF;\n",
              "      --disabled-bg-color: #3B4455;\n",
              "      --disabled-fill-color: #666;\n",
              "  }\n",
              "\n",
              "  .colab-df-quickchart {\n",
              "    background-color: var(--bg-color);\n",
              "    border: none;\n",
              "    border-radius: 50%;\n",
              "    cursor: pointer;\n",
              "    display: none;\n",
              "    fill: var(--fill-color);\n",
              "    height: 32px;\n",
              "    padding: 0;\n",
              "    width: 32px;\n",
              "  }\n",
              "\n",
              "  .colab-df-quickchart:hover {\n",
              "    background-color: var(--hover-bg-color);\n",
              "    box-shadow: 0 1px 2px rgba(60, 64, 67, 0.3), 0 1px 3px 1px rgba(60, 64, 67, 0.15);\n",
              "    fill: var(--button-hover-fill-color);\n",
              "  }\n",
              "\n",
              "  .colab-df-quickchart-complete:disabled,\n",
              "  .colab-df-quickchart-complete:disabled:hover {\n",
              "    background-color: var(--disabled-bg-color);\n",
              "    fill: var(--disabled-fill-color);\n",
              "    box-shadow: none;\n",
              "  }\n",
              "\n",
              "  .colab-df-spinner {\n",
              "    border: 2px solid var(--fill-color);\n",
              "    border-color: transparent;\n",
              "    border-bottom-color: var(--fill-color);\n",
              "    animation:\n",
              "      spin 1s steps(1) infinite;\n",
              "  }\n",
              "\n",
              "  @keyframes spin {\n",
              "    0% {\n",
              "      border-color: transparent;\n",
              "      border-bottom-color: var(--fill-color);\n",
              "      border-left-color: var(--fill-color);\n",
              "    }\n",
              "    20% {\n",
              "      border-color: transparent;\n",
              "      border-left-color: var(--fill-color);\n",
              "      border-top-color: var(--fill-color);\n",
              "    }\n",
              "    30% {\n",
              "      border-color: transparent;\n",
              "      border-left-color: var(--fill-color);\n",
              "      border-top-color: var(--fill-color);\n",
              "      border-right-color: var(--fill-color);\n",
              "    }\n",
              "    40% {\n",
              "      border-color: transparent;\n",
              "      border-right-color: var(--fill-color);\n",
              "      border-top-color: var(--fill-color);\n",
              "    }\n",
              "    60% {\n",
              "      border-color: transparent;\n",
              "      border-right-color: var(--fill-color);\n",
              "    }\n",
              "    80% {\n",
              "      border-color: transparent;\n",
              "      border-right-color: var(--fill-color);\n",
              "      border-bottom-color: var(--fill-color);\n",
              "    }\n",
              "    90% {\n",
              "      border-color: transparent;\n",
              "      border-bottom-color: var(--fill-color);\n",
              "    }\n",
              "  }\n",
              "</style>\n",
              "\n",
              "  <script>\n",
              "    async function quickchart(key) {\n",
              "      const quickchartButtonEl =\n",
              "        document.querySelector('#' + key + ' button');\n",
              "      quickchartButtonEl.disabled = true;  // To prevent multiple clicks.\n",
              "      quickchartButtonEl.classList.add('colab-df-spinner');\n",
              "      try {\n",
              "        const charts = await google.colab.kernel.invokeFunction(\n",
              "            'suggestCharts', [key], {});\n",
              "      } catch (error) {\n",
              "        console.error('Error during call to suggestCharts:', error);\n",
              "      }\n",
              "      quickchartButtonEl.classList.remove('colab-df-spinner');\n",
              "      quickchartButtonEl.classList.add('colab-df-quickchart-complete');\n",
              "    }\n",
              "    (() => {\n",
              "      let quickchartButtonEl =\n",
              "        document.querySelector('#df-8c81bd30-0452-4ae0-b4af-b5173cf8b083 button');\n",
              "      quickchartButtonEl.style.display =\n",
              "        google.colab.kernel.accessAllowed ? 'block' : 'none';\n",
              "    })();\n",
              "  </script>\n",
              "</div>\n",
              "\n",
              "    </div>\n",
              "  </div>\n"
            ],
            "application/vnd.google.colaboratory.intrinsic+json": {
              "type": "dataframe",
              "variable_name": "dogs_test_df",
              "summary": "{\n  \"name\": \"dogs_test_df\",\n  \"rows\": 14,\n  \"fields\": [\n    {\n      \"column\": \"dogs_filename\",\n      \"properties\": {\n        \"dtype\": \"string\",\n        \"num_unique_values\": 14,\n        \"samples\": [\n          \"dog_563\",\n          \"dog_68\",\n          \"dog_518\"\n        ],\n        \"semantic_type\": \"\",\n        \"description\": \"\"\n      }\n    },\n    {\n      \"column\": \"dogs_filepath\",\n      \"properties\": {\n        \"dtype\": \"string\",\n        \"num_unique_values\": 14,\n        \"samples\": [\n          \"/content/drive/MyDrive/test/dogs/dog_563.jpg\",\n          \"/content/drive/MyDrive/test/dogs/dog_68.jpg\",\n          \"/content/drive/MyDrive/test/dogs/dog_518.jpg\"\n        ],\n        \"semantic_type\": \"\",\n        \"description\": \"\"\n      }\n    },\n    {\n      \"column\": \"dogs_pixels\",\n      \"properties\": {\n        \"dtype\": \"object\",\n        \"semantic_type\": \"\",\n        \"description\": \"\"\n      }\n    }\n  ]\n}"
            }
          },
          "metadata": {},
          "execution_count": 42
        }
      ]
    },
    {
      "cell_type": "markdown",
      "source": [
        "Visualize the Dataset Distribution\n",
        "* We plotted a bar graph to visualize the distribution of training and testing images for cats and dogs."
      ],
      "metadata": {
        "id": "aZjS-PLi7wVt"
      }
    },
    {
      "cell_type": "code",
      "source": [
        "# Count the number of images in each set\n",
        "train_cats_count = len(cats_train_df)\n",
        "test_cats_count = len(cats_test_df)\n",
        "train_dogs_count = len(dogs_train_df)\n",
        "test_dogs_count = len(dogs_test_df)\n",
        "\n",
        "# Create the bar graph\n",
        "labels = ['Train Cats', 'Test Cats', 'Train Dogs', 'Test Dogs']\n",
        "counts = [train_cats_count, test_cats_count, train_dogs_count, test_dogs_count]\n",
        "\n",
        "plt.figure(figsize=(8, 6))\n",
        "plt.bar(labels, counts, color=['skyblue', 'lightcoral', 'skyblue', 'lightcoral'])\n",
        "plt.title('Counts of Train and Test Cats and Dogs Images')\n",
        "plt.xlabel('Image Set')\n",
        "plt.ylabel('Number of Images')\n",
        "plt.show()\n"
      ],
      "metadata": {
        "colab": {
          "base_uri": "https://localhost:8080/",
          "height": 564
        },
        "id": "wUjDV9jtWjtL",
        "outputId": "1707bc77-7878-4283-9acc-09b8573cd3e5"
      },
      "execution_count": 43,
      "outputs": [
        {
          "output_type": "display_data",
          "data": {
            "text/plain": [
              "<Figure size 800x600 with 1 Axes>"
            ],
            "image/png": "[encoded data removed]"
          },
          "metadata": {}
        }
      ]
    },
    {
      "cell_type": "markdown",
      "source": [
        "* Create Custom Function using Augly which will perform multiple random data augmentation according to input. (At least 10 data augmentation needs to be added like rotate, cropping, blur …)"
      ],
      "metadata": {
        "id": "hjfVQt5IE_sj"
      }
    },
    {
      "cell_type": "code",
      "source": [
        "import random\n",
        "import augly.image as imaugs\n",
        "from PIL import Image"
      ],
      "metadata": {
        "id": "WzEvymfZO4DA"
      },
      "execution_count": 44,
      "outputs": []
    },
    {
      "cell_type": "markdown",
      "source": [
        "Define the Data Augmentation Function\n",
        "* We created a custom function `random_augmentations` that applies multiple random data augmentations to an input image.\n",
        "\n",
        "* The function uses the `augly` library to perform augmentations such as rotation, cropping, blurring, and more."
      ],
      "metadata": {
        "id": "_dsDiNrh72OT"
      }
    },
    {
      "cell_type": "code",
      "source": [
        "# Function to perform random data augmentation\n",
        "def random_augmentations(input_image: Image.Image):\n",
        "    # List of augmentations with their functions and relevant parameters\n",
        "    augmentations = [\n",
        "        (\"rotate\", imaugs.rotate, {\"degrees\": 45}),  # Rotate with a degree parameter\n",
        "        (\"clip_image_size\", imaugs.clip_image_size, {\"min_resolution\": 256, \"max_resolution\": 1024}),  # Clip image size\n",
        "        (\"grayscale\", imaugs.grayscale, {\"mode\": \"luminosity\"}),  # Convert to grayscale (luminosity mode)\n",
        "        (\"crop\", imaugs.crop, {\"x1\": 0.1, \"y1\": 0.1, \"x2\": 0.9, \"y2\": 0.9}),  # Crop the image\n",
        "        (\"hflip\", imaugs.hflip, {}),  # Horizontal flip\n",
        "        (\"vflip\", imaugs.vflip, {}),  # Vertical flip\n",
        "        (\"random_noise\", imaugs.random_noise, {\"mean\": 0, \"var\": 0.05}),  # Add random noise\n",
        "        (\"skew\", imaugs.skew, {}),  # Skew the image\n",
        "        (\"blur\", imaugs.blur, {\"radius\": 5.0}),  # Apply blur with a radius\n",
        "        (\"color_jitter\", imaugs.color_jitter, {\"brightness_factor\": 1.2, \"contrast_factor\": 1.5}),  # Apply color jitter\n",
        "    ]\n",
        "\n",
        "    # Randomly select the augmentations to apply\n",
        "    selected_augmentations = random.sample(augmentations, 3)\n",
        "\n",
        "    # Apply selected augmentations to the input image\n",
        "    augmented_image = input_image\n",
        "    applied_augs = []  # List to keep track of the applied augmentations\n",
        "    for aug_name, aug_func, params in selected_augmentations:\n",
        "        try:\n",
        "            augmented_image = aug_func(augmented_image, **params)  # Apply the function with its parameters\n",
        "            applied_augs.append(aug_name)  # Track the applied augmentation name\n",
        "        except Exception as e:\n",
        "            print(f\"Error applying augmentation {aug_name}: {e}\")\n",
        "            continue  # Skip this augmentation if there is an error\n",
        "\n",
        "    return augmented_image, applied_augs"
      ],
      "metadata": {
        "id": "KDbrYoFuFAHB"
      },
      "execution_count": 45,
      "outputs": []
    },
    {
      "cell_type": "markdown",
      "source": [
        "Apply Data Augmentation to the Training Set\n",
        "* We applied the random_augmentations function to the training set images.\n",
        "\n",
        "* Each image is augmented twice, and the augmented images are saved in separate folders for cats and dogs."
      ],
      "metadata": {
        "id": "n-F2OBUl8B3d"
      }
    },
    {
      "cell_type": "code",
      "source": [
        "# Extract image file paths from the 'filepath' column\n",
        "cats_train_image_paths = cats_train_df['cats_filepath'].tolist()  # List of image file paths\n",
        "cats_train_image_names = cats_train_df['cats_filename'].tolist()  # List of image names\n",
        "dogs_train_image_paths = dogs_train_df['dogs_filepath'].tolist()  # List of image file paths\n",
        "dogs_train_image_names = dogs_train_df['dogs_filename'].tolist()  # List of image names"
      ],
      "metadata": {
        "id": "0z_fRwK0SeeH"
      },
      "execution_count": 46,
      "outputs": []
    },
    {
      "cell_type": "code",
      "source": [
        "len(cats_train_image_paths),len(dogs_train_image_paths),len(cats_train_image_names),len(dogs_train_image_names)"
      ],
      "metadata": {
        "colab": {
          "base_uri": "https://localhost:8080/"
        },
        "id": "3SLuDGtySiIE",
        "outputId": "0b5ca9ca-32a4-4444-d943-d5356162f847"
      },
      "execution_count": 47,
      "outputs": [
        {
          "output_type": "execute_result",
          "data": {
            "text/plain": [
              "(56, 56, 56, 56)"
            ]
          },
          "metadata": {},
          "execution_count": 47
        }
      ]
    },
    {
      "cell_type": "code",
      "source": [
        "# Function to perform augmentations and generate the new dataset\n",
        "def augment_train_set(train_image_paths, train_image_names, save_dir):\n",
        "    augmented_images = []  # List to store augmented images\n",
        "\n",
        "    # Create main folder and subfolders for cats and dogs if they don't exist\n",
        "    cats_folder = os.path.join(save_dir, \"augmented_cats\")\n",
        "    dogs_folder = os.path.join(save_dir, \"augmented_dogs\")\n",
        "\n",
        "    # Loop through the original train image paths and augment them\n",
        "    for idx, image_path in enumerate(train_image_paths):\n",
        "        # Load the image from the file path\n",
        "        img = Image.open(image_path)\n",
        "        image_name = train_image_names[idx]  # Get the image name\n",
        "\n",
        "        # Augment the image 3 times in a sequence: crop -> rotate -> blur\n",
        "        augmented_img_1, augs_1 = random_augmentations(img)  # First augmentated Image\n",
        "        # print(f\"{image_name} image Augmented with the augmentations {', '.join(augs_1)}\")\n",
        "        augmented_img_2, augs_2 = random_augmentations(img)  # Second augmentated Image\n",
        "        # print(f\"{image_name} image Augmented with the augmentations {', '.join(augs_2)}\")\n",
        "\n",
        "        augmented_images.extend([augmented_img_1, augmented_img_2])  # Add augmented images\n",
        "\n",
        "    # Determine the subfolder based on the image's name (e.g., if it's a cat or dog image)\n",
        "        if 'cat' in image_name.lower():  # Assuming the image name contains 'cat' for cat images\n",
        "            save_folder = cats_folder\n",
        "        elif 'dog' in image_name.lower():  # Assuming the image name contains 'dog' for dog images\n",
        "            save_folder = dogs_folder\n",
        "        else:\n",
        "            save_folder = os.path.join(save_dir, \"augmented_others\")  # For other images, create a generic folder\n",
        "\n",
        "        # Ensure the subfolder exists\n",
        "        os.makedirs(save_folder, exist_ok=True)\n",
        "\n",
        "        # Save the augmented images with new names\n",
        "        augmented_img_1.save(os.path.join(save_folder, f\"{image_name}_augmented_1.jpg\"))\n",
        "        augmented_img_2.save(os.path.join(save_folder, f\"{image_name}_augmented_2.jpg\"))\n",
        "\n",
        "    # The augmented images should be twice the number of original train set images\n",
        "    return augmented_images"
      ],
      "metadata": {
        "id": "nv9cdSoZxLRG"
      },
      "execution_count": 48,
      "outputs": []
    },
    {
      "cell_type": "code",
      "source": [
        "# Augment the training set\n",
        "print(\"Performing Augmentations on Cats Images.-----\")\n",
        "augmented_cats_train_set = augment_train_set(cats_train_image_paths, cats_train_image_names, save_dir)\n",
        "print(\"Performing Augmentations on Dogs Images.-----\")\n",
        "augmented_dogs_train_set = augment_train_set(dogs_train_image_paths, dogs_train_image_names, save_dir)\n",
        "\n",
        "# Print the number of augmented images\n",
        "print(f\"Number of augmented images: {len(augmented_cats_train_set) , len(augmented_dogs_train_set)}\")\n",
        "print(augmented_cats_train_set)\n",
        "print(augmented_dogs_train_set)"
      ],
      "metadata": {
        "colab": {
          "base_uri": "https://localhost:8080/"
        },
        "id": "d4Wir63IStQD",
        "outputId": "e5e20c7f-c237-41fd-dd42-8be28cd39642"
      },
      "execution_count": 49,
      "outputs": [
        {
          "output_type": "stream",
          "name": "stdout",
          "text": [
            "Performing Augmentations on Cats Images.-----\n",
            "Performing Augmentations on Dogs Images.-----\n",
            "Number of augmented images: (112, 112)\n",
            "[<PIL.Image.Image image mode=RGB size=347x347 at 0x7BF203D1F590>, <PIL.Image.Image image mode=RGB size=434x434 at 0x7BF203E56610>, <PIL.Image.Image image mode=RGB size=1200x720 at 0x7BF203B8AFD0>, <PIL.Image.Image image mode=RGB size=41x24 at 0x7BF203B6A7D0>, <PIL.Image.Image image mode=RGB size=276x183 at 0x7BF203B62010>, <PIL.Image.Image image mode=RGB size=221x146 at 0x7BF203D48210>, <PIL.Image.Image image mode=RGB size=890x590 at 0x7BF203B606D0>, <PIL.Image.Image image mode=RGB size=890x590 at 0x7BF203BAA450>, <PIL.Image.Image image mode=RGB size=459x495 at 0x7BF208839E50>, <PIL.Image.Image image mode=RGB size=368x396 at 0x7BF203B8B690>, <PIL.Image.Image image mode=RGB size=227x143 at 0x7BF208878FD0>, <PIL.Image.Image image mode=RGB size=40x25 at 0x7BF203B7C310>, <PIL.Image.Image image mode=RGB size=208x156 at 0x7BF207EFFE10>, <PIL.Image.Image image mode=RGB size=259x195 at 0x7BF203B8A550>, <PIL.Image.Image image mode=RGB size=17x17 at 0x7BF203B95710>, <PIL.Image.Image image mode=RGB size=42x24 at 0x7BF203D4A990>, <PIL.Image.Image image mode=RGB size=180x180 at 0x7BF203B95F10>, <PIL.Image.Image image mode=RGB size=127x127 at 0x7BF203BA4250>, <PIL.Image.Image image mode=RGB size=220x146 at 0x7BF203B96490>, <PIL.Image.Image image mode=RGB size=220x146 at 0x7BF203B96A50>, <PIL.Image.Image image mode=RGB size=512x354 at 0x7BF203BA98D0>, <PIL.Image.Image image mode=RGB size=19x19 at 0x7BF203D00FD0>, <PIL.Image.Image image mode=RGB size=17x18 at 0x7BF203B97310>, <PIL.Image.Image image mode=RGB size=126x126 at 0x7BF207F45190>, <PIL.Image.Image image mode=RGB size=39x26 at 0x7BF203D49450>, <PIL.Image.Image image mode=RGB size=32x32 at 0x7BF203B73890>, <PIL.Image.Image image mode=RGB size=720x405 at 0x7BF207F45B10>, <PIL.Image.Image image mode=RGB size=33x18 at 0x7BF203B97750>, <PIL.Image.Image image mode=RGB size=637x637 at 0x7BF20883B650>, <PIL.Image.Image image mode=RGB size=36x27 at 0x7BF203BA9A10>, <PIL.Image.Image image mode=RGB size=384x384 at 0x7BF203D008D0>, <PIL.Image.Image image mode=RGB size=384x384 at 0x7BF203B962D0>, <PIL.Image.Image image mode=RGB size=119x119 at 0x7BF203B95210>, <PIL.Image.Image image mode=RGB size=300x168 at 0x7BF203D46AD0>, <PIL.Image.Image image mode=RGB size=51x19 at 0x7BF203B699D0>, <PIL.Image.Image image mode=RGB size=51x19 at 0x7BF203D34A50>, <PIL.Image.Image image mode=RGB size=424x424 at 0x7BF203D34690>, <PIL.Image.Image image mode=RGB size=531x531 at 0x7BF207F448D0>, <PIL.Image.Image image mode=RGB size=261x193 at 0x7BF203CE3450>, <PIL.Image.Image image mode=RGB size=37x27 at 0x7BF203CE3210>, <PIL.Image.Image image mode=RGB size=368x367 at 0x7BF203B61BD0>, <PIL.Image.Image image mode=RGB size=17x16 at 0x7BF203BA6750>, <PIL.Image.Image image mode=RGB size=289x174 at 0x7BF203B95A10>, <PIL.Image.Image image mode=RGB size=232x139 at 0x7BF203BA6950>, <PIL.Image.Image image mode=RGB size=1200x1200 at 0x7BF203BA6A10>, <PIL.Image.Image image mode=RGB size=960x960 at 0x7BF203B96E10>, <PIL.Image.Image image mode=RGB size=39x25 at 0x7BF203BA6C10>, <PIL.Image.Image image mode=RGB size=39x25 at 0x7BF203B94ED0>, <PIL.Image.Image image mode=RGB size=100x101 at 0x7BF203B956D0>, <PIL.Image.Image image mode=RGB size=40x25 at 0x7BF203D36BD0>, <PIL.Image.Image image mode=RGB size=32x32 at 0x7BF203B94810>, <PIL.Image.Image image mode=RGB size=225x225 at 0x7BF203BA65D0>, <PIL.Image.Image image mode=RGB size=114x115 at 0x7BF203BA6810>, <PIL.Image.Image image mode=RGB size=248x129 at 0x7BF203BA9350>, <PIL.Image.Image image mode=RGB size=566x566 at 0x7BF203D36310>, <PIL.Image.Image image mode=RGB size=1200x800 at 0x7BF207F44550>, <PIL.Image.Image image mode=RGB size=310x163 at 0x7BF203B6D690>, <PIL.Image.Image image mode=RGB size=248x130 at 0x7BF203BA4710>, <PIL.Image.Image image mode=RGB size=216x150 at 0x7BF203BACE90>, <PIL.Image.Image image mode=RGB size=133x132 at 0x7BF203BA6590>, <PIL.Image.Image image mode=RGB size=32x32 at 0x7BF203B6D810>, <PIL.Image.Image image mode=RGB size=480x480 at 0x7BF203BA62D0>, <PIL.Image.Image image mode=RGB size=825x549 at 0x7BF203B7D710>, <PIL.Image.Image image mode=RGB size=39x26 at 0x7BF203BA68D0>, <PIL.Image.Image image mode=RGB size=849x849 at 0x7BF203BAE510>, <PIL.Image.Image image mode=RGB size=960x960 at 0x7BF203BA6DD0>, <PIL.Image.Image image mode=RGB size=1280x720 at 0x7BF203D36A50>, <PIL.Image.Image image mode=RGB size=509x509 at 0x7BF203BAC0D0>, <PIL.Image.Image image mode=RGB size=1080x720 at 0x7BF203D36B90>, <PIL.Image.Image image mode=RGB size=39x26 at 0x7BF203B61750>, <PIL.Image.Image image mode=RGB size=1200x801 at 0x7BF203BA6D10>, <PIL.Image.Image image mode=RGB size=567x566 at 0x7BF203BAE7D0>, <PIL.Image.Image image mode=RGB size=39x16 at 0x7BF203BAD8D0>, <PIL.Image.Image image mode=RGB size=255x255 at 0x7BF203BAD3D0>, <PIL.Image.Image image mode=RGB size=489x327 at 0x7BF203BACF50>, <PIL.Image.Image image mode=RGB size=32x21 at 0x7BF203D36AD0>, <PIL.Image.Image image mode=RGB size=758x757 at 0x7BF203BAF850>, <PIL.Image.Image image mode=RGB size=1071x1600 at 0x7BF203CACED0>, <PIL.Image.Image image mode=RGB size=2119x1414 at 0x7BF203BAFA90>, <PIL.Image.Image image mode=RGB size=1696x1131 at 0x7BF203D36510>, <PIL.Image.Image image mode=RGB size=2048x1600 at 0x7BF203BACDD0>, <PIL.Image.Image image mode=RGB size=2560x1999 at 0x7BF203B970D0>, <PIL.Image.Image image mode=RGB size=360x202 at 0x7BF205CDCE10>, <PIL.Image.Image image mode=RGB size=143x143 at 0x7BF203BAEA90>, <PIL.Image.Image image mode=RGB size=32x32 at 0x7BF203BAE310>, <PIL.Image.Image image mode=RGB size=33x19 at 0x7BF203BAF8D0>, <PIL.Image.Image image mode=RGB size=496x330 at 0x7BF203BA4FD0>, <PIL.Image.Image image mode=RGB size=39x26 at 0x7BF203BAF750>, <PIL.Image.Image image mode=RGB size=39x26 at 0x7BF203BAFFD0>, <PIL.Image.Image image mode=RGB size=275x183 at 0x7BF203BAFF10>, <PIL.Image.Image image mode=RGB size=31x32 at 0x7BF203BACB90>, <PIL.Image.Image image mode=RGB size=440x294 at 0x7BF203B6FD10>, <PIL.Image.Image image mode=RGB size=601x601 at 0x7BF203B7FE90>, <PIL.Image.Image image mode=RGB size=601x601 at 0x7BF203BA6990>, <PIL.Image.Image image mode=RGB size=2000x640 at 0x7BF207F44410>, <PIL.Image.Image image mode=RGB size=45x15 at 0x7BF203BB8090>, <PIL.Image.Image image mode=RGB size=247x204 at 0x7BF203BB8850>, <PIL.Image.Image image mode=RGB size=35x29 at 0x7BF203B96C90>, <PIL.Image.Image image mode=RGB size=318x158 at 0x7BF209535B10>, <PIL.Image.Image image mode=RGB size=111x111 at 0x7BF203BB8590>, <PIL.Image.Image image mode=RGB size=1802x1200 at 0x7BF203BAFF90>, <PIL.Image.Image image mode=RGB size=1802x1200 at 0x7BF203BB8B50>, <PIL.Image.Image image mode=RGB size=992x559 at 0x7BF203BAE450>, <PIL.Image.Image image mode=RGB size=1240x698 at 0x7BF203D00950>, <PIL.Image.Image image mode=RGB size=459x458 at 0x7BF203BAF9D0>, <PIL.Image.Image image mode=RGB size=1240x649 at 0x7BF203B63C90>, <PIL.Image.Image image mode=RGB size=671x671 at 0x7BF203BB9210>, <PIL.Image.Image image mode=RGB size=39x25 at 0x7BF203BAE750>, <PIL.Image.Image image mode=RGB size=31x31 at 0x7BF203BA6B90>, <PIL.Image.Image image mode=RGB size=1000x500 at 0x7BF203BAC4D0>, <PIL.Image.Image image mode=RGB size=1440x754 at 0x7BF203BAD050>, <PIL.Image.Image image mode=RGB size=44x23 at 0x7BF203CAD1D0>]\n",
            "[<PIL.Image.Image image mode=RGB size=207x244 at 0x7BF203B7EC10>, <PIL.Image.Image image mode=RGB size=166x195 at 0x7BF203BA6AD0>, <PIL.Image.Image image mode=RGB size=1200x800 at 0x7BF203BA5F90>, <PIL.Image.Image image mode=RGB size=566x566 at 0x7BF203BB9D90>, <PIL.Image.Image image mode=RGB size=226x143 at 0x7BF203BB9E90>, <PIL.Image.Image image mode=RGB size=283x178 at 0x7BF203BA7910>, <PIL.Image.Image image mode=RGB size=220x146 at 0x7BF203BB9F10>, <PIL.Image.Image image mode=RGB size=130x130 at 0x7BF203BACED0>, <PIL.Image.Image image mode=RGB size=1280x854 at 0x7BF203BB9250>, <PIL.Image.Image image mode=RGB size=1280x854 at 0x7BF203B89AD0>, <PIL.Image.Image image mode=RGB size=39x26 at 0x7BF203B97250>, <PIL.Image.Image image mode=RGB size=675x453 at 0x7BF203D00810>, <PIL.Image.Image image mode=RGB size=300x168 at 0x7BF203BA6D50>, <PIL.Image.Image image mode=RGB size=240x135 at 0x7BF205D9BB90>, <PIL.Image.Image image mode=RGB size=800x534 at 0x7BF203BBA950>, <PIL.Image.Image image mode=RGB size=1000x667 at 0x7BF203BAE3D0>, <PIL.Image.Image image mode=RGB size=535x535 at 0x7BF203BA72D0>, <PIL.Image.Image image mode=RGB size=36x27 at 0x7BF203B72BD0>, <PIL.Image.Image image mode=RGB size=314x320 at 0x7BF203E55A90>, <PIL.Image.Image image mode=RGB size=278x277 at 0x7BF203EEC050>, <PIL.Image.Image image mode=RGB size=880x464 at 0x7BF203B96DD0>, <PIL.Image.Image image mode=RGB size=44x23 at 0x7BF203BAF450>, <PIL.Image.Image image mode=RGB size=1024x576 at 0x7BF203BBA990>, <PIL.Image.Image image mode=RGB size=1280x720 at 0x7BF203B7F510>, <PIL.Image.Image image mode=RGB size=39x26 at 0x7BF203BAEBD0>, <PIL.Image.Image image mode=RGB size=480x320 at 0x7BF203BBAAD0>, <PIL.Image.Image image mode=RGB size=36x27 at 0x7BF203BB9850>, <PIL.Image.Image image mode=RGB size=700x525 at 0x7BF203BBAF10>, <PIL.Image.Image image mode=RGB size=960x640 at 0x7BF203BBB790>, <PIL.Image.Image image mode=RGB size=1200x800 at 0x7BF203BBAE90>, <PIL.Image.Image image mode=RGB size=220x146 at 0x7BF203BBB710>, <PIL.Image.Image image mode=RGB size=220x146 at 0x7BF203BB9E50>, <PIL.Image.Image image mode=RGB size=40x25 at 0x7BF203BAF650>, <PIL.Image.Image image mode=RGB size=520x320 at 0x7BF203B97710>, <PIL.Image.Image image mode=RGB size=191x162 at 0x7BF203D4B890>, <PIL.Image.Image image mode=RGB size=114x115 at 0x7BF203BB8250>, <PIL.Image.Image image mode=RGB size=679x679 at 0x7BF203BBB550>, <PIL.Image.Image image mode=RGB size=768x1152 at 0x7BF203D00E10>, <PIL.Image.Image image mode=RGB size=275x183 at 0x7BF203BBA8D0>, <PIL.Image.Image image mode=RGB size=104x104 at 0x7BF203BBAB90>, <PIL.Image.Image image mode=RGB size=17x17 at 0x7BF203BBB610>, <PIL.Image.Image image mode=RGB size=198x163 at 0x7BF2088840D0>, <PIL.Image.Image image mode=RGB size=654x653 at 0x7BF203B8B990>, <PIL.Image.Image image mode=RGB size=1232x739 at 0x7BF203BBC110>, <PIL.Image.Image image mode=RGB size=1200x1211 at 0x7BF203BAE050>, <PIL.Image.Image image mode=RGB size=849x848 at 0x7BF203BBA090>, <PIL.Image.Image image mode=RGB size=512x384 at 0x7BF203BAFCD0>, <PIL.Image.Image image mode=RGB size=36x27 at 0x7BF203BBBF10>, <PIL.Image.Image image mode=RGB size=465x465 at 0x7BF203BBB7D0>, <PIL.Image.Image image mode=RGB size=848x658 at 0x7BF203B736D0>, <PIL.Image.Image image mode=RGB size=1200x840 at 0x7BF203D45050>, <PIL.Image.Image image mode=RGB size=38x26 at 0x7BF203BB9350>, <PIL.Image.Image image mode=RGB size=750x240 at 0x7BF203BAEE10>, <PIL.Image.Image image mode=RGB size=56x18 at 0x7BF203BAAD90>, <PIL.Image.Image image mode=RGB size=800x600 at 0x7BF203BA69D0>, <PIL.Image.Image image mode=RGB size=425x425 at 0x7BF203BA7E90>, <PIL.Image.Image image mode=RGB size=2400x1488 at 0x7BF203BA46D0>, <PIL.Image.Image image mode=RGB size=32x20 at 0x7BF203BA9C50>, <PIL.Image.Image image mode=RGB size=400x266 at 0x7BF203D359D0>, <PIL.Image.Image image mode=RGB size=400x266 at 0x7BF203BADAD0>, <PIL.Image.Image image mode=RGB size=32x32 at 0x7BF203B96F50>, <PIL.Image.Image image mode=RGB size=565x565 at 0x7BF203BBD050>, <PIL.Image.Image image mode=RGB size=34x29 at 0x7BF203EEC990>, <PIL.Image.Image image mode=RGB size=34x29 at 0x7BF203BA7790>, <PIL.Image.Image image mode=RGB size=256x127 at 0x7BF203BBC490>, <PIL.Image.Image image mode=RGB size=45x22 at 0x7BF203E06B50>, <PIL.Image.Image image mode=RGB size=345x344 at 0x7BF203BBC310>, <PIL.Image.Image image mode=RGB size=500x487 at 0x7BF203BA4790>, <PIL.Image.Image image mode=RGB size=192x192 at 0x7BF203BBC750>, <PIL.Image.Image image mode=RGB size=343x340 at 0x7BF203D36B50>, <PIL.Image.Image image mode=RGB size=275x183 at 0x7BF203BADF90>, <PIL.Image.Image image mode=RGB size=275x183 at 0x7BF203BBC450>, <PIL.Image.Image image mode=RGB size=640x480 at 0x7BF203CAD090>, <PIL.Image.Image image mode=RGB size=32x32 at 0x7BF203BBC250>, <PIL.Image.Image image mode=RGB size=31x21 at 0x7BF203BBA910>, <PIL.Image.Image image mode=RGB size=768x535 at 0x7BF203BBACD0>, <PIL.Image.Image image mode=RGB size=32x32 at 0x7BF203BBBA90>, <PIL.Image.Image image mode=RGB size=53x19 at 0x7BF203B68090>, <PIL.Image.Image image mode=RGB size=33x30 at 0x7BF203BBB590>, <PIL.Image.Image image mode=RGB size=303x304 at 0x7BF203BBA610>, <PIL.Image.Image image mode=RGB size=1033x1033 at 0x7BF203BBA510>, <PIL.Image.Image image mode=RGB size=2080x1169 at 0x7BF203BB8390>, <PIL.Image.Image image mode=RGB size=4735x3157 at 0x7BF203B8BF50>, <PIL.Image.Image image mode=RGB size=39x26 at 0x7BF203BAEED0>, <PIL.Image.Image image mode=RGB size=42x24 at 0x7BF203BBB4D0>, <PIL.Image.Image image mode=RGB size=493x493 at 0x7BF203BB9410>, <PIL.Image.Image image mode=RGB size=759x505 at 0x7BF203BBBB50>, <PIL.Image.Image image mode=RGB size=447x447 at 0x7BF203D3E950>, <PIL.Image.Image image mode=RGB size=32x31 at 0x7BF203B94290>, <PIL.Image.Image image mode=RGB size=640x638 at 0x7BF203EEC5D0>, <PIL.Image.Image image mode=RGB size=849x849 at 0x7BF203BBE6D0>, <PIL.Image.Image image mode=RGB size=1200x1200 at 0x7BF203BBC6D0>, <PIL.Image.Image image mode=RGB size=126x126 at 0x7BF203BBD690>, <PIL.Image.Image image mode=RGB size=17x18 at 0x7BF203BBD890>, <PIL.Image.Image image mode=RGB size=189x170 at 0x7BF203BAD010>, <PIL.Image.Image image mode=RGB size=151x150 at 0x7BF203B680D0>, <PIL.Image.Image image mode=RGB size=600x494 at 0x7BF203B8ABD0>, <PIL.Image.Image image mode=RGB size=280x280 at 0x7BF203BBE090>, <PIL.Image.Image image mode=RGB size=42x24 at 0x7BF203BBE990>, <PIL.Image.Image image mode=RGB size=31x31 at 0x7BF203BBBF50>, <PIL.Image.Image image mode=RGB size=640x360 at 0x7BF203D36B10>, <PIL.Image.Image image mode=RGB size=640x360 at 0x7BF203BB9710>, <PIL.Image.Image image mode=RGB size=1440x1440 at 0x7BF203B8BF10>, <PIL.Image.Image image mode=RGB size=1273x1272 at 0x7BF203BBE890>, <PIL.Image.Image image mode=RGB size=32x32 at 0x7BF203B728D0>, <PIL.Image.Image image mode=RGB size=500x500 at 0x7BF203BBDE10>, <PIL.Image.Image image mode=RGB size=120x121 at 0x7BF203BBE450>, <PIL.Image.Image image mode=RGB size=238x136 at 0x7BF203BBC950>, <PIL.Image.Image image mode=RGB size=240x135 at 0x7BF203BBE210>, <PIL.Image.Image image mode=RGB size=240x135 at 0x7BF203BBB450>, <PIL.Image.Image image mode=RGB size=264x191 at 0x7BF203BBCE90>, <PIL.Image.Image image mode=RGB size=135x136 at 0x7BF203BB9FD0>]\n"
          ]
        }
      ]
    },
    {
      "cell_type": "markdown",
      "source": [
        "Verify the Number of Augmented Images\n",
        "* We verified the number of augmented images in the folders to ensure the augmentation process was successful."
      ],
      "metadata": {
        "id": "uQ6jDeh28L2f"
      }
    },
    {
      "cell_type": "code",
      "source": [
        "# Define the folder path\n",
        "cats_folder = f\"{save_dir}/augmented_cats\"\n",
        "dogs_folder = f\"{save_dir}/augmented_dogs\"\n",
        "\n",
        "folders = [cats_folder, dogs_folder]\n",
        "\n",
        "for folder in folders:\n",
        "  # List all files in the folder\n",
        "  files_in_folder = os.listdir(folder)\n",
        "\n",
        "  # Filter out directories and count only files (optional, if you want to exclude subdirectories)\n",
        "  files_only = [f for f in files_in_folder]\n",
        "\n",
        "  # Get the length (number of files) in the folder\n",
        "  folder_name = os.path.basename(folder)\n",
        "  folder_length = len(files_only)\n",
        "\n",
        "  # Print the result\n",
        "  print(f\"Number of files in the folder {folder_name}: {folder_length}\")\n"
      ],
      "metadata": {
        "id": "xGzO8tP-L_q1",
        "colab": {
          "base_uri": "https://localhost:8080/"
        },
        "outputId": "c180a032-5ecc-4e64-d04f-23673790c637"
      },
      "execution_count": 50,
      "outputs": [
        {
          "output_type": "stream",
          "name": "stdout",
          "text": [
            "Number of files in the folder augmented_cats: 112\n",
            "Number of files in the folder augmented_dogs: 112\n"
          ]
        }
      ]
    },
    {
      "cell_type": "markdown",
      "source": [
        "Plotting Graph for the counts of Augmented/Non-Augmented Train Sets of Cats and Dogs Images"
      ],
      "metadata": {
        "id": "RFWyv3LB-oRp"
      }
    },
    {
      "cell_type": "code",
      "source": [
        "# Count the number of images in each set\n",
        "aug_train_cats_count = len(augmented_cats_train_set)\n",
        "aug_train_dogs_count = len(augmented_dogs_train_set)\n",
        "non_aug_train_cats_count = len(cats_train_df)\n",
        "non_aug_train_dogs_count = len(dogs_train_df)\n",
        "\n",
        "# Create the bar graph\n",
        "labels = ['''Augmented\n",
        "Train Cats''',\n",
        "          '''Non_Augmented\n",
        "Train Cats''',\n",
        "          '''Augmented\n",
        "Train Dogs''',\n",
        "          '''Non_Augmented\n",
        "Train Dogs'''\n",
        "          ]\n",
        "\n",
        "counts = [aug_train_cats_count, non_aug_train_cats_count, aug_train_dogs_count, non_aug_train_dogs_count]\n",
        "\n",
        "plt.figure(figsize=(8, 6))\n",
        "plt.bar(labels, counts, color=['skyblue', 'lightcoral', 'skyblue', 'lightcoral'])\n",
        "\n",
        "# Adjust the title and labels\n",
        "plt.title('Counts of Augmented/Non-Augmented Train Sets of Cats and Dogs Images')\n",
        "plt.xlabel('Image Set')\n",
        "plt.ylabel('Number of Images')\n",
        "\n",
        "# Show the plot\n",
        "plt.tight_layout()  # To ensure the plot fits well within the figure area\n",
        "plt.show()\n"
      ],
      "metadata": {
        "colab": {
          "base_uri": "https://localhost:8080/",
          "height": 607
        },
        "id": "99MU0pZ6UVR7",
        "outputId": "efe6222c-ed52-4632-f437-95d1a2feee3c"
      },
      "execution_count": 51,
      "outputs": [
        {
          "output_type": "display_data",
          "data": {
            "text/plain": [
              "<Figure size 800x600 with 1 Axes>"
            ],
            "image/png": "[encoded data removed]"
          },
          "metadata": {}
        }
      ]
    },
    {
      "cell_type": "code",
      "source": [
        "combined_cats_trained_set = cats_train_df['cats_pixels'].tolist() + augmented_cats_train_set\n",
        "combined_dogs_trained_set = dogs_train_df['dogs_pixels'].tolist() + augmented_dogs_train_set\n",
        "\n",
        "total_train_cats_count = len(combined_cats_trained_set)\n",
        "total_train_dogs_count = len(combined_dogs_trained_set)"
      ],
      "metadata": {
        "id": "p68nAZL7ZWAv"
      },
      "execution_count": 52,
      "outputs": []
    },
    {
      "cell_type": "markdown",
      "source": [
        "Plotting graphs for the counts of Augmented/Non-Augmented Train Sets of Cats and Dogs Images and Total Train Images after augmentation."
      ],
      "metadata": {
        "id": "dIYxIj0Q-8To"
      }
    },
    {
      "cell_type": "code",
      "source": [
        "# Create the bar graph\n",
        "labels = ['''Total Train\n",
        "Cats''',\n",
        "          '''Augmented\n",
        "Train Cats''',\n",
        "          '''Non_Augmented\n",
        "Train Cats''',\n",
        "          '''Total Trains\n",
        "Dogs''',\n",
        "          '''Augmented\n",
        "Train Dogs''',\n",
        "          '''Non_Augmented\n",
        "Train Dogs'''\n",
        "          ]\n",
        "\n",
        "counts = [total_train_cats_count, aug_train_cats_count, non_aug_train_cats_count,total_train_dogs_count, aug_train_dogs_count, non_aug_train_dogs_count]\n",
        "\n",
        "plt.figure(figsize=(8, 6))\n",
        "plt.bar(labels, counts, color=['skyblue', 'lightcoral', 'skyblue', 'lightcoral', 'skyblue', 'lightcoral'])\n",
        "\n",
        "# Adjust the title and labels\n",
        "plt.title('Counts of Augmented/Non-Augmented Train Sets of Cats and Dogs Images and Total Train Images after augmentation')\n",
        "plt.xlabel('Image Set')\n",
        "plt.ylabel('Number of Images')\n",
        "\n",
        "# Show the plot\n",
        "plt.tight_layout()  # To ensure the plot fits well within the figure area\n",
        "plt.show()"
      ],
      "metadata": {
        "id": "DHqhlwZi_Yn7",
        "outputId": "608c17ee-0b2e-459a-8ca7-2e1b66535eb1",
        "colab": {
          "base_uri": "https://localhost:8080/",
          "height": 607
        }
      },
      "execution_count": 53,
      "outputs": [
        {
          "output_type": "display_data",
          "data": {
            "text/plain": [
              "<Figure size 800x600 with 1 Axes>"
            ],
            "image/png": "[encoded data removed]"
          },
          "metadata": {}
        }
      ]
    },
    {
      "cell_type": "code",
      "source": [
        "print(f'Initial Train Cats: {non_aug_train_cats_count}')\n",
        "print(f'Inial Train Dogs: {non_aug_train_dogs_count}')\n",
        "print(f'Initial Train Cats + Dogs: {non_aug_train_cats_count + non_aug_train_dogs_count}')"
      ],
      "metadata": {
        "id": "v6QNHLiyBy4I",
        "outputId": "2f9c5879-8f2e-4612-b055-0d8ddfa4bb68",
        "colab": {
          "base_uri": "https://localhost:8080/"
        }
      },
      "execution_count": 54,
      "outputs": [
        {
          "output_type": "stream",
          "name": "stdout",
          "text": [
            "Initial Train Cats: 56\n",
            "Inial Train Dogs: 56\n",
            "Initial Train Cats + Dogs: 112\n"
          ]
        }
      ]
    },
    {
      "cell_type": "code",
      "source": [
        "print(f'Augmented Train Cats: {aug_train_cats_count}')\n",
        "print(f'Augmented Train Dogs: {aug_train_dogs_count}')\n",
        "print(f'Augmented Train Cats + Dogs: {aug_train_cats_count + aug_train_dogs_count}')"
      ],
      "metadata": {
        "id": "ZLlIfySGBqMG",
        "outputId": "cbe46f9b-99a5-4a47-e29d-c44ecea2fb17",
        "colab": {
          "base_uri": "https://localhost:8080/"
        }
      },
      "execution_count": 55,
      "outputs": [
        {
          "output_type": "stream",
          "name": "stdout",
          "text": [
            "Augmented Train Cats: 112\n",
            "Augmented Train Dogs: 112\n",
            "Augmented Train Cats + Dogs: 224\n"
          ]
        }
      ]
    },
    {
      "cell_type": "code",
      "source": [
        "print(f'Total Train Cats: {total_train_cats_count}')\n",
        "print(f'Total Train Dogs: {total_train_dogs_count}')\n",
        "print(f'Total Train Cats + Dogs: {total_train_cats_count + total_train_dogs_count}')"
      ],
      "metadata": {
        "id": "q03xBmDcAv3E",
        "outputId": "e92f9f6e-73e4-485e-9e36-234f89434b78",
        "colab": {
          "base_uri": "https://localhost:8080/"
        }
      },
      "execution_count": 56,
      "outputs": [
        {
          "output_type": "stream",
          "name": "stdout",
          "text": [
            "Total Train Cats: 168\n",
            "Total Train Dogs: 168\n",
            "Total Train Cats + Dogs: 336\n"
          ]
        }
      ]
    }
  ]
}